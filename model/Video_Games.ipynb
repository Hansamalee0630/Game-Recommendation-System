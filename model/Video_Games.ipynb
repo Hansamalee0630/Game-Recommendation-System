{
  "cells": [
    {
      "cell_type": "markdown",
      "metadata": {
        "id": "OU1e0WqlpEKm"
      },
      "source": [
        "**Video Games Recommendation**"
      ]
    },
    {
      "cell_type": "markdown",
      "metadata": {
        "id": "bQUTIv8-pe3p"
      },
      "source": [
        "**Import the Libraries**"
      ]
    },
    {
      "cell_type": "code",
      "execution_count": 1,
      "metadata": {
        "id": "k_EA87vapByQ"
      },
      "outputs": [],
      "source": [
        "import pandas as pd\n",
        "import numpy as np\n",
        "import matplotlib.pyplot as plt\n",
        "import seaborn as sns\n",
        "import warnings\n",
        "import os\n",
        "\n",
        "from sklearn.neighbors import NearestNeighbors\n",
        "from sklearn.preprocessing import StandardScaler\n",
        "from sklearn.feature_extraction.text import TfidfVectorizer\n",
        "from sklearn.metrics.pairwise import cosine_similarity\n",
        "\n",
        "warnings.filterwarnings(\"ignore\")"
      ]
    },
    {
      "cell_type": "markdown",
      "metadata": {
        "id": "BCZo9dNVpYu-"
      },
      "source": [
        "**Import the data set to the machine**"
      ]
    },
    {
      "cell_type": "code",
      "execution_count": 2,
      "metadata": {
        "colab": {
          "base_uri": "https://localhost:8080/",
          "height": 313
        },
        "id": "GXp98x-jpdDH",
        "outputId": "7ee6fdf2-f205-4446-ad2b-3d9a069d5bed"
      },
      "outputs": [
        {
          "name": "stdout",
          "output_type": "stream",
          "text": [
            "No. of records: 16719\n"
          ]
        },
        {
          "data": {
            "text/html": [
              "<div>\n",
              "<style scoped>\n",
              "    .dataframe tbody tr th:only-of-type {\n",
              "        vertical-align: middle;\n",
              "    }\n",
              "\n",
              "    .dataframe tbody tr th {\n",
              "        vertical-align: top;\n",
              "    }\n",
              "\n",
              "    .dataframe thead th {\n",
              "        text-align: right;\n",
              "    }\n",
              "</style>\n",
              "<table border=\"1\" class=\"dataframe\">\n",
              "  <thead>\n",
              "    <tr style=\"text-align: right;\">\n",
              "      <th></th>\n",
              "      <th>Name</th>\n",
              "      <th>Platform</th>\n",
              "      <th>Year_of_Release</th>\n",
              "      <th>Genre</th>\n",
              "      <th>Publisher</th>\n",
              "      <th>NA_Sales</th>\n",
              "      <th>EU_Sales</th>\n",
              "      <th>JP_Sales</th>\n",
              "      <th>Other_Sales</th>\n",
              "      <th>Global_Sales</th>\n",
              "      <th>Critic_Score</th>\n",
              "      <th>Critic_Count</th>\n",
              "      <th>User_Score</th>\n",
              "      <th>User_Count</th>\n",
              "      <th>Developer</th>\n",
              "      <th>Rating</th>\n",
              "    </tr>\n",
              "  </thead>\n",
              "  <tbody>\n",
              "    <tr>\n",
              "      <th>0</th>\n",
              "      <td>Wii Sports</td>\n",
              "      <td>Wii</td>\n",
              "      <td>2006.0</td>\n",
              "      <td>Sports</td>\n",
              "      <td>Nintendo</td>\n",
              "      <td>41.36</td>\n",
              "      <td>28.96</td>\n",
              "      <td>3.77</td>\n",
              "      <td>8.45</td>\n",
              "      <td>82.53</td>\n",
              "      <td>76.0</td>\n",
              "      <td>51.0</td>\n",
              "      <td>8</td>\n",
              "      <td>322.0</td>\n",
              "      <td>Nintendo</td>\n",
              "      <td>E</td>\n",
              "    </tr>\n",
              "    <tr>\n",
              "      <th>1</th>\n",
              "      <td>Super Mario Bros.</td>\n",
              "      <td>NES</td>\n",
              "      <td>1985.0</td>\n",
              "      <td>Platform</td>\n",
              "      <td>Nintendo</td>\n",
              "      <td>29.08</td>\n",
              "      <td>3.58</td>\n",
              "      <td>6.81</td>\n",
              "      <td>0.77</td>\n",
              "      <td>40.24</td>\n",
              "      <td>NaN</td>\n",
              "      <td>NaN</td>\n",
              "      <td>NaN</td>\n",
              "      <td>NaN</td>\n",
              "      <td>NaN</td>\n",
              "      <td>NaN</td>\n",
              "    </tr>\n",
              "    <tr>\n",
              "      <th>2</th>\n",
              "      <td>Mario Kart Wii</td>\n",
              "      <td>Wii</td>\n",
              "      <td>2008.0</td>\n",
              "      <td>Racing</td>\n",
              "      <td>Nintendo</td>\n",
              "      <td>15.68</td>\n",
              "      <td>12.76</td>\n",
              "      <td>3.79</td>\n",
              "      <td>3.29</td>\n",
              "      <td>35.52</td>\n",
              "      <td>82.0</td>\n",
              "      <td>73.0</td>\n",
              "      <td>8.3</td>\n",
              "      <td>709.0</td>\n",
              "      <td>Nintendo</td>\n",
              "      <td>E</td>\n",
              "    </tr>\n",
              "    <tr>\n",
              "      <th>3</th>\n",
              "      <td>Wii Sports Resort</td>\n",
              "      <td>Wii</td>\n",
              "      <td>2009.0</td>\n",
              "      <td>Sports</td>\n",
              "      <td>Nintendo</td>\n",
              "      <td>15.61</td>\n",
              "      <td>10.93</td>\n",
              "      <td>3.28</td>\n",
              "      <td>2.95</td>\n",
              "      <td>32.77</td>\n",
              "      <td>80.0</td>\n",
              "      <td>73.0</td>\n",
              "      <td>8</td>\n",
              "      <td>192.0</td>\n",
              "      <td>Nintendo</td>\n",
              "      <td>E</td>\n",
              "    </tr>\n",
              "    <tr>\n",
              "      <th>4</th>\n",
              "      <td>Pokemon Red/Pokemon Blue</td>\n",
              "      <td>GB</td>\n",
              "      <td>1996.0</td>\n",
              "      <td>Role-Playing</td>\n",
              "      <td>Nintendo</td>\n",
              "      <td>11.27</td>\n",
              "      <td>8.89</td>\n",
              "      <td>10.22</td>\n",
              "      <td>1.00</td>\n",
              "      <td>31.37</td>\n",
              "      <td>NaN</td>\n",
              "      <td>NaN</td>\n",
              "      <td>NaN</td>\n",
              "      <td>NaN</td>\n",
              "      <td>NaN</td>\n",
              "      <td>NaN</td>\n",
              "    </tr>\n",
              "  </tbody>\n",
              "</table>\n",
              "</div>"
            ],
            "text/plain": [
              "                       Name Platform  Year_of_Release         Genre Publisher  \\\n",
              "0                Wii Sports      Wii           2006.0        Sports  Nintendo   \n",
              "1         Super Mario Bros.      NES           1985.0      Platform  Nintendo   \n",
              "2            Mario Kart Wii      Wii           2008.0        Racing  Nintendo   \n",
              "3         Wii Sports Resort      Wii           2009.0        Sports  Nintendo   \n",
              "4  Pokemon Red/Pokemon Blue       GB           1996.0  Role-Playing  Nintendo   \n",
              "\n",
              "   NA_Sales  EU_Sales  JP_Sales  Other_Sales  Global_Sales  Critic_Score  \\\n",
              "0     41.36     28.96      3.77         8.45         82.53          76.0   \n",
              "1     29.08      3.58      6.81         0.77         40.24           NaN   \n",
              "2     15.68     12.76      3.79         3.29         35.52          82.0   \n",
              "3     15.61     10.93      3.28         2.95         32.77          80.0   \n",
              "4     11.27      8.89     10.22         1.00         31.37           NaN   \n",
              "\n",
              "   Critic_Count User_Score  User_Count Developer Rating  \n",
              "0          51.0          8       322.0  Nintendo      E  \n",
              "1           NaN        NaN         NaN       NaN    NaN  \n",
              "2          73.0        8.3       709.0  Nintendo      E  \n",
              "3          73.0          8       192.0  Nintendo      E  \n",
              "4           NaN        NaN         NaN       NaN    NaN  "
            ]
          },
          "execution_count": 2,
          "metadata": {},
          "output_type": "execute_result"
        }
      ],
      "source": [
        "video_games_df = pd.read_csv('Video_Games_Sales_as_at_22_Dec_2016.csv')\n",
        "\n",
        "print(f\"No. of records: {video_games_df.shape[0]}\")\n",
        "video_games_df.head(5)"
      ]
    },
    {
      "cell_type": "markdown",
      "metadata": {
        "id": "-NakRAFSp-UP"
      },
      "source": [
        "**We here only filter out features that are relevant for our recommendation system.**"
      ]
    },
    {
      "cell_type": "code",
      "execution_count": 3,
      "metadata": {
        "colab": {
          "base_uri": "https://localhost:8080/"
        },
        "id": "6rK-3G85qKJ6",
        "outputId": "10e16b80-84e1-4ba2-b355-38a3c089a7b7"
      },
      "outputs": [
        {
          "name": "stdout",
          "output_type": "stream",
          "text": [
            "<class 'pandas.core.frame.DataFrame'>\n",
            "RangeIndex: 16719 entries, 0 to 16718\n",
            "Data columns (total 6 columns):\n",
            " #   Column        Non-Null Count  Dtype  \n",
            "---  ------        --------------  -----  \n",
            " 0   Name          16717 non-null  object \n",
            " 1   Platform      16719 non-null  object \n",
            " 2   Genre         16717 non-null  object \n",
            " 3   Critic_Score  8137 non-null   float64\n",
            " 4   User_Score    10015 non-null  object \n",
            " 5   Rating        9950 non-null   object \n",
            "dtypes: float64(1), object(5)\n",
            "memory usage: 783.8+ KB\n"
          ]
        }
      ],
      "source": [
        "video_games_filtered_df = video_games_df[['Name', 'Platform', 'Genre', 'Critic_Score', 'User_Score', 'Rating']]\n",
        "video_games_filtered_df.info()"
      ]
    },
    {
      "cell_type": "markdown",
      "metadata": {
        "id": "7AJFRnhLqY8_"
      },
      "source": [
        "**Data Preprocessing begins from here on wards**"
      ]
    },
    {
      "cell_type": "markdown",
      "metadata": {
        "id": "6Zsn8oA2qUXB"
      },
      "source": [
        "\n",
        "**Check the total number of missing values for each feature in the dataset**"
      ]
    },
    {
      "cell_type": "code",
      "execution_count": 4,
      "metadata": {
        "colab": {
          "base_uri": "https://localhost:8080/",
          "height": 272
        },
        "id": "eAYRb1jAqfLn",
        "outputId": "fbf26964-33ab-45b6-9f85-9c8acc0f74e9"
      },
      "outputs": [
        {
          "data": {
            "text/plain": [
              "Critic_Score    8582\n",
              "Rating          6769\n",
              "User_Score      6704\n",
              "Name               2\n",
              "Genre              2\n",
              "Platform           0\n",
              "dtype: int64"
            ]
          },
          "execution_count": 4,
          "metadata": {},
          "output_type": "execute_result"
        }
      ],
      "source": [
        "video_games_filtered_df.isna().sum().sort_values(ascending=False)"
      ]
    },
    {
      "cell_type": "markdown",
      "metadata": {
        "id": "s1fiWwR7qrh8"
      },
      "source": [
        "**Here We are going to remove the missing values for Name, Genre and Ratings features**"
      ]
    },
    {
      "cell_type": "code",
      "execution_count": 5,
      "metadata": {
        "id": "usyAxWSxq8jh"
      },
      "outputs": [],
      "source": [
        "\n",
        "video_games_filtered_df.dropna(subset=['Name', 'Genre', 'Rating'], axis=0, inplace=True)\n",
        "video_games_filtered_df = video_games_filtered_df.reset_index(drop=True)\n",
        "\n"
      ]
    },
    {
      "cell_type": "markdown",
      "metadata": {
        "id": "1qVb7pIzrIOE"
      },
      "source": [
        "**Now recheck whether more missing values are available**"
      ]
    },
    {
      "cell_type": "code",
      "execution_count": 33,
      "metadata": {
        "colab": {
          "base_uri": "https://localhost:8080/"
        },
        "id": "pzka_Z1OrMVK",
        "outputId": "7a9e6f52-5aaf-4df5-a92c-f16d1ff771da"
      },
      "outputs": [
        {
          "data": {
            "text/plain": [
              "Name      0\n",
              "Genre     0\n",
              "Rating    0\n",
              "dtype: int64"
            ]
          },
          "execution_count": 33,
          "metadata": {},
          "output_type": "execute_result"
        }
      ],
      "source": [
        "video_games_filtered_df[['Name', 'Genre', 'Rating']].isna().sum()"
      ]
    },
    {
      "cell_type": "markdown",
      "metadata": {
        "id": "-wIOG3AKrPpY"
      },
      "source": [
        "**Now We are going to check the class Imbalance**"
      ]
    },
    {
      "cell_type": "markdown",
      "metadata": {
        "id": "VwFpl5VnrcFd"
      },
      "source": [
        "**Frequency distribution of the features type Genre, Platform, and Rating**"
      ]
    },
    {
      "cell_type": "code",
      "execution_count": 7,
      "metadata": {
        "colab": {
          "base_uri": "https://localhost:8080/",
          "height": 1000
        },
        "id": "TZx35vk7rXNz",
        "outputId": "e7225b99-9511-4a7d-aee5-548bcac1ea41"
      },
      "outputs": [
        {
          "data": {
            "image/png": "[encoded data removed]",
            "text/plain": [
              "<Figure size 1300x400 with 1 Axes>"
            ]
          },
          "metadata": {},
          "output_type": "display_data"
        },
        {
          "data": {
            "image/png": "[encoded data removed]",
            "text/plain": [
              "<Figure size 1300x400 with 1 Axes>"
            ]
          },
          "metadata": {},
          "output_type": "display_data"
        },
        {
          "data": {
            "image/png": "[encoded data removed]",
            "text/plain": [
              "<Figure size 1300x400 with 1 Axes>"
            ]
          },
          "metadata": {},
          "output_type": "display_data"
        }
      ],
      "source": [
        "features = video_games_filtered_df[['Genre', 'Platform', 'Rating']].columns\n",
        "\n",
        "for idx, feature in enumerate(features):\n",
        "    plt.figure(figsize = (13,4))\n",
        "    sns.countplot(data=video_games_filtered_df, x=feature)\n",
        "    plt.xlabel(feature)\n",
        "    plt.ylabel('Frequency')\n",
        "    plt.title(\" Data Distribution of Video Game \" + feature + \"s\")\n",
        "plt.show()"
      ]
    },
    {
      "cell_type": "markdown",
      "metadata": {
        "id": "FjAFJZ7Ur9fc"
      },
      "source": [
        "**Data imbalance is observed, with class scarcity present for certain rating methods such as 'K-A', 'AO', 'EC', and 'RP'.**"
      ]
    },
    {
      "cell_type": "markdown",
      "metadata": {
        "id": "qqzOXCwptJ1B"
      },
      "source": [
        "**We calculated the average of the User_Score and Critic_Score variables and created two additional columns, Avg_User_Score and Avg_Critic_Score, to capture these respective mean values**"
      ]
    },
    {
      "cell_type": "markdown",
      "metadata": {
        "id": "ZuaFcWkFv1g5"
      },
      "source": [
        "**In this step, the column is checked for any occurrences of 'tbd' values, which are then replaced with np.nan, indicating missing values. After this conversion, the column is cast to a float data type, as NaN values can only exist in numerical data types.**"
      ]
    },
    {
      "cell_type": "code",
      "execution_count": 8,
      "metadata": {
        "id": "VZUPl-2_sPZN"
      },
      "outputs": [],
      "source": [
        "video_games_filtered_df['User_Score'] = np.where(video_games_filtered_df['User_Score'] == 'tbd',\n",
        "                                                 np.nan,\n",
        "                                                 video_games_filtered_df['User_Score']).astype(float)"
      ]
    },
    {
      "cell_type": "markdown",
      "metadata": {
        "id": "qiESgpiuwgqK"
      },
      "source": [
        "**Now group the records by Genre, then aggregate them calculating the average of both Critic Score and User Score**"
      ]
    },
    {
      "cell_type": "code",
      "execution_count": 9,
      "metadata": {
        "id": "JMygOar6wodH"
      },
      "outputs": [],
      "source": [
        "video_game_grpby_genre = video_games_filtered_df[['Genre', 'Critic_Score', 'User_Score']].groupby('Genre', as_index=False)\n",
        "\n",
        "video_game_score_mean = video_game_grpby_genre.agg(Ave_Critic_Score = ('Critic_Score', 'mean'), Ave_User_Score = ('User_Score', 'mean'))"
      ]
    },
    {
      "cell_type": "markdown",
      "metadata": {
        "id": "R_P4E3n0wtXl"
      },
      "source": [
        "**Now add the new average values to the main dataframe**"
      ]
    },
    {
      "cell_type": "code",
      "execution_count": 10,
      "metadata": {
        "colab": {
          "base_uri": "https://localhost:8080/",
          "height": 423
        },
        "id": "yN8-JkZmw1FD",
        "outputId": "d7d10b1a-98cf-483a-809f-b992e0e4fcba"
      },
      "outputs": [
        {
          "data": {
            "text/html": [
              "<div>\n",
              "<style scoped>\n",
              "    .dataframe tbody tr th:only-of-type {\n",
              "        vertical-align: middle;\n",
              "    }\n",
              "\n",
              "    .dataframe tbody tr th {\n",
              "        vertical-align: top;\n",
              "    }\n",
              "\n",
              "    .dataframe thead th {\n",
              "        text-align: right;\n",
              "    }\n",
              "</style>\n",
              "<table border=\"1\" class=\"dataframe\">\n",
              "  <thead>\n",
              "    <tr style=\"text-align: right;\">\n",
              "      <th></th>\n",
              "      <th>Name</th>\n",
              "      <th>Platform</th>\n",
              "      <th>Genre</th>\n",
              "      <th>Critic_Score</th>\n",
              "      <th>User_Score</th>\n",
              "      <th>Rating</th>\n",
              "      <th>Ave_Critic_Score</th>\n",
              "      <th>Ave_User_Score</th>\n",
              "    </tr>\n",
              "  </thead>\n",
              "  <tbody>\n",
              "    <tr>\n",
              "      <th>0</th>\n",
              "      <td>Wii Sports</td>\n",
              "      <td>Wii</td>\n",
              "      <td>Sports</td>\n",
              "      <td>76.0</td>\n",
              "      <td>8.0</td>\n",
              "      <td>E</td>\n",
              "      <td>72.037257</td>\n",
              "      <td>6.973126</td>\n",
              "    </tr>\n",
              "    <tr>\n",
              "      <th>1</th>\n",
              "      <td>Mario Kart Wii</td>\n",
              "      <td>Wii</td>\n",
              "      <td>Racing</td>\n",
              "      <td>82.0</td>\n",
              "      <td>8.3</td>\n",
              "      <td>E</td>\n",
              "      <td>67.927694</td>\n",
              "      <td>7.036767</td>\n",
              "    </tr>\n",
              "    <tr>\n",
              "      <th>2</th>\n",
              "      <td>Wii Sports Resort</td>\n",
              "      <td>Wii</td>\n",
              "      <td>Sports</td>\n",
              "      <td>80.0</td>\n",
              "      <td>8.0</td>\n",
              "      <td>E</td>\n",
              "      <td>72.037257</td>\n",
              "      <td>6.973126</td>\n",
              "    </tr>\n",
              "    <tr>\n",
              "      <th>3</th>\n",
              "      <td>New Super Mario Bros.</td>\n",
              "      <td>DS</td>\n",
              "      <td>Platform</td>\n",
              "      <td>89.0</td>\n",
              "      <td>8.5</td>\n",
              "      <td>E</td>\n",
              "      <td>68.058350</td>\n",
              "      <td>7.301402</td>\n",
              "    </tr>\n",
              "    <tr>\n",
              "      <th>4</th>\n",
              "      <td>Wii Play</td>\n",
              "      <td>Wii</td>\n",
              "      <td>Misc</td>\n",
              "      <td>58.0</td>\n",
              "      <td>6.6</td>\n",
              "      <td>E</td>\n",
              "      <td>66.650672</td>\n",
              "      <td>6.827460</td>\n",
              "    </tr>\n",
              "    <tr>\n",
              "      <th>...</th>\n",
              "      <td>...</td>\n",
              "      <td>...</td>\n",
              "      <td>...</td>\n",
              "      <td>...</td>\n",
              "      <td>...</td>\n",
              "      <td>...</td>\n",
              "      <td>...</td>\n",
              "      <td>...</td>\n",
              "    </tr>\n",
              "    <tr>\n",
              "      <th>9945</th>\n",
              "      <td>Bust-A-Move 3000</td>\n",
              "      <td>GC</td>\n",
              "      <td>Puzzle</td>\n",
              "      <td>53.0</td>\n",
              "      <td>NaN</td>\n",
              "      <td>E</td>\n",
              "      <td>67.418919</td>\n",
              "      <td>7.175000</td>\n",
              "    </tr>\n",
              "    <tr>\n",
              "      <th>9946</th>\n",
              "      <td>Mega Brain Boost</td>\n",
              "      <td>DS</td>\n",
              "      <td>Puzzle</td>\n",
              "      <td>48.0</td>\n",
              "      <td>NaN</td>\n",
              "      <td>E</td>\n",
              "      <td>67.418919</td>\n",
              "      <td>7.175000</td>\n",
              "    </tr>\n",
              "    <tr>\n",
              "      <th>9947</th>\n",
              "      <td>STORM: Frontline Nation</td>\n",
              "      <td>PC</td>\n",
              "      <td>Strategy</td>\n",
              "      <td>60.0</td>\n",
              "      <td>7.2</td>\n",
              "      <td>E10+</td>\n",
              "      <td>72.254296</td>\n",
              "      <td>7.320930</td>\n",
              "    </tr>\n",
              "    <tr>\n",
              "      <th>9948</th>\n",
              "      <td>Plushees</td>\n",
              "      <td>DS</td>\n",
              "      <td>Simulation</td>\n",
              "      <td>NaN</td>\n",
              "      <td>NaN</td>\n",
              "      <td>E</td>\n",
              "      <td>68.587896</td>\n",
              "      <td>7.136686</td>\n",
              "    </tr>\n",
              "    <tr>\n",
              "      <th>9949</th>\n",
              "      <td>Men in Black II: Alien Escape</td>\n",
              "      <td>GC</td>\n",
              "      <td>Shooter</td>\n",
              "      <td>NaN</td>\n",
              "      <td>NaN</td>\n",
              "      <td>T</td>\n",
              "      <td>70.189362</td>\n",
              "      <td>7.045207</td>\n",
              "    </tr>\n",
              "  </tbody>\n",
              "</table>\n",
              "<p>9950 rows × 8 columns</p>\n",
              "</div>"
            ],
            "text/plain": [
              "                               Name Platform       Genre  Critic_Score  \\\n",
              "0                        Wii Sports      Wii      Sports          76.0   \n",
              "1                    Mario Kart Wii      Wii      Racing          82.0   \n",
              "2                 Wii Sports Resort      Wii      Sports          80.0   \n",
              "3             New Super Mario Bros.       DS    Platform          89.0   \n",
              "4                          Wii Play      Wii        Misc          58.0   \n",
              "...                             ...      ...         ...           ...   \n",
              "9945               Bust-A-Move 3000       GC      Puzzle          53.0   \n",
              "9946               Mega Brain Boost       DS      Puzzle          48.0   \n",
              "9947        STORM: Frontline Nation       PC    Strategy          60.0   \n",
              "9948                       Plushees       DS  Simulation           NaN   \n",
              "9949  Men in Black II: Alien Escape       GC     Shooter           NaN   \n",
              "\n",
              "      User_Score Rating  Ave_Critic_Score  Ave_User_Score  \n",
              "0            8.0      E         72.037257        6.973126  \n",
              "1            8.3      E         67.927694        7.036767  \n",
              "2            8.0      E         72.037257        6.973126  \n",
              "3            8.5      E         68.058350        7.301402  \n",
              "4            6.6      E         66.650672        6.827460  \n",
              "...          ...    ...               ...             ...  \n",
              "9945         NaN      E         67.418919        7.175000  \n",
              "9946         NaN      E         67.418919        7.175000  \n",
              "9947         7.2   E10+         72.254296        7.320930  \n",
              "9948         NaN      E         68.587896        7.136686  \n",
              "9949         NaN      T         70.189362        7.045207  \n",
              "\n",
              "[9950 rows x 8 columns]"
            ]
          },
          "execution_count": 10,
          "metadata": {},
          "output_type": "execute_result"
        }
      ],
      "source": [
        "video_games_filtered_df = video_games_filtered_df.merge(video_game_score_mean, on='Genre')\n",
        "video_games_filtered_df"
      ]
    },
    {
      "cell_type": "markdown",
      "metadata": {
        "id": "YWGmFyv_Alam"
      },
      "source": [
        "**In this step, the missing values in the Critic_Score column are imputed with the corresponding average critic score (Ave_Critic_Score), while existing values remain unchanged. This ensures that missing critic scores are replaced with a meaningful estimate.**"
      ]
    },
    {
      "cell_type": "code",
      "execution_count": 11,
      "metadata": {
        "id": "DXhLCiqww-4A"
      },
      "outputs": [],
      "source": [
        "video_games_filtered_df['Critic_Score_Imputed'] = np.where(video_games_filtered_df['Critic_Score'].isna(),\n",
        "                                                           video_games_filtered_df['Ave_Critic_Score'],\n",
        "                                                           video_games_filtered_df['Critic_Score'])"
      ]
    },
    {
      "cell_type": "markdown",
      "metadata": {
        "id": "VSTO3nd0AyWX"
      },
      "source": [
        "**The same thing has been done for the user_score**"
      ]
    },
    {
      "cell_type": "code",
      "execution_count": 12,
      "metadata": {
        "id": "YS6N5cK_xCqi"
      },
      "outputs": [],
      "source": [
        "video_games_filtered_df['User_Score_Imputed'] = np.where(video_games_filtered_df['User_Score'].isna(),\n",
        "                                                         video_games_filtered_df['Ave_User_Score'],\n",
        "                                                         video_games_filtered_df['User_Score'])"
      ]
    },
    {
      "cell_type": "markdown",
      "metadata": {
        "id": "cDKbfzDtA0d4"
      },
      "source": [
        "**Review the dataset after the relavant changes**"
      ]
    },
    {
      "cell_type": "code",
      "execution_count": 13,
      "metadata": {
        "colab": {
          "base_uri": "https://localhost:8080/",
          "height": 600
        },
        "id": "tnkEJWRExFYK",
        "outputId": "29edb3b8-60a1-427f-b355-cf3bc7cf0257"
      },
      "outputs": [
        {
          "data": {
            "text/html": [
              "<div>\n",
              "<style scoped>\n",
              "    .dataframe tbody tr th:only-of-type {\n",
              "        vertical-align: middle;\n",
              "    }\n",
              "\n",
              "    .dataframe tbody tr th {\n",
              "        vertical-align: top;\n",
              "    }\n",
              "\n",
              "    .dataframe thead th {\n",
              "        text-align: right;\n",
              "    }\n",
              "</style>\n",
              "<table border=\"1\" class=\"dataframe\">\n",
              "  <thead>\n",
              "    <tr style=\"text-align: right;\">\n",
              "      <th></th>\n",
              "      <th>Name</th>\n",
              "      <th>Platform</th>\n",
              "      <th>Genre</th>\n",
              "      <th>Critic_Score</th>\n",
              "      <th>User_Score</th>\n",
              "      <th>Rating</th>\n",
              "      <th>Ave_Critic_Score</th>\n",
              "      <th>Ave_User_Score</th>\n",
              "      <th>Critic_Score_Imputed</th>\n",
              "      <th>User_Score_Imputed</th>\n",
              "    </tr>\n",
              "  </thead>\n",
              "  <tbody>\n",
              "    <tr>\n",
              "      <th>0</th>\n",
              "      <td>Wii Sports</td>\n",
              "      <td>Wii</td>\n",
              "      <td>Sports</td>\n",
              "      <td>76.0</td>\n",
              "      <td>8.0</td>\n",
              "      <td>E</td>\n",
              "      <td>72.037257</td>\n",
              "      <td>6.973126</td>\n",
              "      <td>76.000000</td>\n",
              "      <td>8.000000</td>\n",
              "    </tr>\n",
              "    <tr>\n",
              "      <th>1</th>\n",
              "      <td>Mario Kart Wii</td>\n",
              "      <td>Wii</td>\n",
              "      <td>Racing</td>\n",
              "      <td>82.0</td>\n",
              "      <td>8.3</td>\n",
              "      <td>E</td>\n",
              "      <td>67.927694</td>\n",
              "      <td>7.036767</td>\n",
              "      <td>82.000000</td>\n",
              "      <td>8.300000</td>\n",
              "    </tr>\n",
              "    <tr>\n",
              "      <th>2</th>\n",
              "      <td>Wii Sports Resort</td>\n",
              "      <td>Wii</td>\n",
              "      <td>Sports</td>\n",
              "      <td>80.0</td>\n",
              "      <td>8.0</td>\n",
              "      <td>E</td>\n",
              "      <td>72.037257</td>\n",
              "      <td>6.973126</td>\n",
              "      <td>80.000000</td>\n",
              "      <td>8.000000</td>\n",
              "    </tr>\n",
              "    <tr>\n",
              "      <th>3</th>\n",
              "      <td>New Super Mario Bros.</td>\n",
              "      <td>DS</td>\n",
              "      <td>Platform</td>\n",
              "      <td>89.0</td>\n",
              "      <td>8.5</td>\n",
              "      <td>E</td>\n",
              "      <td>68.058350</td>\n",
              "      <td>7.301402</td>\n",
              "      <td>89.000000</td>\n",
              "      <td>8.500000</td>\n",
              "    </tr>\n",
              "    <tr>\n",
              "      <th>4</th>\n",
              "      <td>Wii Play</td>\n",
              "      <td>Wii</td>\n",
              "      <td>Misc</td>\n",
              "      <td>58.0</td>\n",
              "      <td>6.6</td>\n",
              "      <td>E</td>\n",
              "      <td>66.650672</td>\n",
              "      <td>6.827460</td>\n",
              "      <td>58.000000</td>\n",
              "      <td>6.600000</td>\n",
              "    </tr>\n",
              "    <tr>\n",
              "      <th>...</th>\n",
              "      <td>...</td>\n",
              "      <td>...</td>\n",
              "      <td>...</td>\n",
              "      <td>...</td>\n",
              "      <td>...</td>\n",
              "      <td>...</td>\n",
              "      <td>...</td>\n",
              "      <td>...</td>\n",
              "      <td>...</td>\n",
              "      <td>...</td>\n",
              "    </tr>\n",
              "    <tr>\n",
              "      <th>9945</th>\n",
              "      <td>Bust-A-Move 3000</td>\n",
              "      <td>GC</td>\n",
              "      <td>Puzzle</td>\n",
              "      <td>53.0</td>\n",
              "      <td>NaN</td>\n",
              "      <td>E</td>\n",
              "      <td>67.418919</td>\n",
              "      <td>7.175000</td>\n",
              "      <td>53.000000</td>\n",
              "      <td>7.175000</td>\n",
              "    </tr>\n",
              "    <tr>\n",
              "      <th>9946</th>\n",
              "      <td>Mega Brain Boost</td>\n",
              "      <td>DS</td>\n",
              "      <td>Puzzle</td>\n",
              "      <td>48.0</td>\n",
              "      <td>NaN</td>\n",
              "      <td>E</td>\n",
              "      <td>67.418919</td>\n",
              "      <td>7.175000</td>\n",
              "      <td>48.000000</td>\n",
              "      <td>7.175000</td>\n",
              "    </tr>\n",
              "    <tr>\n",
              "      <th>9947</th>\n",
              "      <td>STORM: Frontline Nation</td>\n",
              "      <td>PC</td>\n",
              "      <td>Strategy</td>\n",
              "      <td>60.0</td>\n",
              "      <td>7.2</td>\n",
              "      <td>E10+</td>\n",
              "      <td>72.254296</td>\n",
              "      <td>7.320930</td>\n",
              "      <td>60.000000</td>\n",
              "      <td>7.200000</td>\n",
              "    </tr>\n",
              "    <tr>\n",
              "      <th>9948</th>\n",
              "      <td>Plushees</td>\n",
              "      <td>DS</td>\n",
              "      <td>Simulation</td>\n",
              "      <td>NaN</td>\n",
              "      <td>NaN</td>\n",
              "      <td>E</td>\n",
              "      <td>68.587896</td>\n",
              "      <td>7.136686</td>\n",
              "      <td>68.587896</td>\n",
              "      <td>7.136686</td>\n",
              "    </tr>\n",
              "    <tr>\n",
              "      <th>9949</th>\n",
              "      <td>Men in Black II: Alien Escape</td>\n",
              "      <td>GC</td>\n",
              "      <td>Shooter</td>\n",
              "      <td>NaN</td>\n",
              "      <td>NaN</td>\n",
              "      <td>T</td>\n",
              "      <td>70.189362</td>\n",
              "      <td>7.045207</td>\n",
              "      <td>70.189362</td>\n",
              "      <td>7.045207</td>\n",
              "    </tr>\n",
              "  </tbody>\n",
              "</table>\n",
              "<p>9950 rows × 10 columns</p>\n",
              "</div>"
            ],
            "text/plain": [
              "                               Name Platform       Genre  Critic_Score  \\\n",
              "0                        Wii Sports      Wii      Sports          76.0   \n",
              "1                    Mario Kart Wii      Wii      Racing          82.0   \n",
              "2                 Wii Sports Resort      Wii      Sports          80.0   \n",
              "3             New Super Mario Bros.       DS    Platform          89.0   \n",
              "4                          Wii Play      Wii        Misc          58.0   \n",
              "...                             ...      ...         ...           ...   \n",
              "9945               Bust-A-Move 3000       GC      Puzzle          53.0   \n",
              "9946               Mega Brain Boost       DS      Puzzle          48.0   \n",
              "9947        STORM: Frontline Nation       PC    Strategy          60.0   \n",
              "9948                       Plushees       DS  Simulation           NaN   \n",
              "9949  Men in Black II: Alien Escape       GC     Shooter           NaN   \n",
              "\n",
              "      User_Score Rating  Ave_Critic_Score  Ave_User_Score  \\\n",
              "0            8.0      E         72.037257        6.973126   \n",
              "1            8.3      E         67.927694        7.036767   \n",
              "2            8.0      E         72.037257        6.973126   \n",
              "3            8.5      E         68.058350        7.301402   \n",
              "4            6.6      E         66.650672        6.827460   \n",
              "...          ...    ...               ...             ...   \n",
              "9945         NaN      E         67.418919        7.175000   \n",
              "9946         NaN      E         67.418919        7.175000   \n",
              "9947         7.2   E10+         72.254296        7.320930   \n",
              "9948         NaN      E         68.587896        7.136686   \n",
              "9949         NaN      T         70.189362        7.045207   \n",
              "\n",
              "      Critic_Score_Imputed  User_Score_Imputed  \n",
              "0                76.000000            8.000000  \n",
              "1                82.000000            8.300000  \n",
              "2                80.000000            8.000000  \n",
              "3                89.000000            8.500000  \n",
              "4                58.000000            6.600000  \n",
              "...                    ...                 ...  \n",
              "9945             53.000000            7.175000  \n",
              "9946             48.000000            7.175000  \n",
              "9947             60.000000            7.200000  \n",
              "9948             68.587896            7.136686  \n",
              "9949             70.189362            7.045207  \n",
              "\n",
              "[9950 rows x 10 columns]"
            ]
          },
          "execution_count": 13,
          "metadata": {},
          "output_type": "execute_result"
        }
      ],
      "source": [
        "video_games_filtered_df"
      ]
    },
    {
      "cell_type": "markdown",
      "metadata": {
        "id": "nKP32482yO_v"
      },
      "source": [
        "**Review the needed four columns to see whether there is any huge change or not in the data set after creating 2 extra columns**"
      ]
    },
    {
      "cell_type": "markdown",
      "metadata": {
        "id": "kO8xVPITyrxW"
      },
      "source": [
        "**Here only the 4 main attributes are taken in to the consideration and then the describe function is being used to get the overall view of the data set.**"
      ]
    },
    {
      "cell_type": "code",
      "execution_count": 14,
      "metadata": {
        "colab": {
          "base_uri": "https://localhost:8080/",
          "height": 300
        },
        "id": "DCs1bd1NybAq",
        "outputId": "f4f63b24-5554-4007-a38f-a6d920819b42"
      },
      "outputs": [
        {
          "data": {
            "text/html": [
              "<div>\n",
              "<style scoped>\n",
              "    .dataframe tbody tr th:only-of-type {\n",
              "        vertical-align: middle;\n",
              "    }\n",
              "\n",
              "    .dataframe tbody tr th {\n",
              "        vertical-align: top;\n",
              "    }\n",
              "\n",
              "    .dataframe thead th {\n",
              "        text-align: right;\n",
              "    }\n",
              "</style>\n",
              "<table border=\"1\" class=\"dataframe\">\n",
              "  <thead>\n",
              "    <tr style=\"text-align: right;\">\n",
              "      <th></th>\n",
              "      <th>Critic_Score</th>\n",
              "      <th>Critic_Score_Imputed</th>\n",
              "      <th>User_Score</th>\n",
              "      <th>User_Score_Imputed</th>\n",
              "    </tr>\n",
              "  </thead>\n",
              "  <tbody>\n",
              "    <tr>\n",
              "      <th>count</th>\n",
              "      <td>8054.000000</td>\n",
              "      <td>9950.000000</td>\n",
              "      <td>7504.000000</td>\n",
              "      <td>9950.000000</td>\n",
              "    </tr>\n",
              "    <tr>\n",
              "      <th>mean</th>\n",
              "      <td>68.971319</td>\n",
              "      <td>68.851751</td>\n",
              "      <td>7.126879</td>\n",
              "      <td>7.107768</td>\n",
              "    </tr>\n",
              "    <tr>\n",
              "      <th>std</th>\n",
              "      <td>13.951640</td>\n",
              "      <td>12.594336</td>\n",
              "      <td>1.500750</td>\n",
              "      <td>1.305869</td>\n",
              "    </tr>\n",
              "    <tr>\n",
              "      <th>min</th>\n",
              "      <td>13.000000</td>\n",
              "      <td>13.000000</td>\n",
              "      <td>0.000000</td>\n",
              "      <td>0.000000</td>\n",
              "    </tr>\n",
              "    <tr>\n",
              "      <th>25%</th>\n",
              "      <td>60.000000</td>\n",
              "      <td>63.000000</td>\n",
              "      <td>6.400000</td>\n",
              "      <td>6.800000</td>\n",
              "    </tr>\n",
              "    <tr>\n",
              "      <th>50%</th>\n",
              "      <td>71.000000</td>\n",
              "      <td>69.000000</td>\n",
              "      <td>7.500000</td>\n",
              "      <td>7.136686</td>\n",
              "    </tr>\n",
              "    <tr>\n",
              "      <th>75%</th>\n",
              "      <td>79.000000</td>\n",
              "      <td>77.000000</td>\n",
              "      <td>8.200000</td>\n",
              "      <td>8.000000</td>\n",
              "    </tr>\n",
              "    <tr>\n",
              "      <th>max</th>\n",
              "      <td>98.000000</td>\n",
              "      <td>98.000000</td>\n",
              "      <td>9.700000</td>\n",
              "      <td>9.700000</td>\n",
              "    </tr>\n",
              "  </tbody>\n",
              "</table>\n",
              "</div>"
            ],
            "text/plain": [
              "       Critic_Score  Critic_Score_Imputed   User_Score  User_Score_Imputed\n",
              "count   8054.000000           9950.000000  7504.000000         9950.000000\n",
              "mean      68.971319             68.851751     7.126879            7.107768\n",
              "std       13.951640             12.594336     1.500750            1.305869\n",
              "min       13.000000             13.000000     0.000000            0.000000\n",
              "25%       60.000000             63.000000     6.400000            6.800000\n",
              "50%       71.000000             69.000000     7.500000            7.136686\n",
              "75%       79.000000             77.000000     8.200000            8.000000\n",
              "max       98.000000             98.000000     9.700000            9.700000"
            ]
          },
          "execution_count": 14,
          "metadata": {},
          "output_type": "execute_result"
        }
      ],
      "source": [
        "video_games_filtered_df[['Critic_Score', 'Critic_Score_Imputed', 'User_Score', 'User_Score_Imputed']].describe()"
      ]
    },
    {
      "cell_type": "markdown",
      "metadata": {
        "id": "IhZpPlh5zDuf"
      },
      "source": [
        "**Here we are going to drop the not needed features but do not drop the newly created featurs**"
      ]
    },
    {
      "cell_type": "code",
      "execution_count": 15,
      "metadata": {
        "id": "V4ULDN11zNIP"
      },
      "outputs": [],
      "source": [
        "video_games_final_df = video_games_filtered_df.drop(columns=['User_Score', 'Critic_Score', 'Ave_Critic_Score', 'Ave_User_Score'], axis=1)\n",
        "video_games_final_df = video_games_final_df.reset_index(drop=True)"
      ]
    },
    {
      "cell_type": "markdown",
      "metadata": {
        "id": "z568kM9GzSC5"
      },
      "source": [
        "**View the final set of data**"
      ]
    },
    {
      "cell_type": "code",
      "execution_count": 16,
      "metadata": {
        "colab": {
          "base_uri": "https://localhost:8080/"
        },
        "id": "ogNwtpwuzUrF",
        "outputId": "101b3bfa-068c-4014-f664-cbed04e1757e"
      },
      "outputs": [
        {
          "name": "stdout",
          "output_type": "stream",
          "text": [
            "<class 'pandas.core.frame.DataFrame'>\n",
            "RangeIndex: 9950 entries, 0 to 9949\n",
            "Data columns (total 6 columns):\n",
            " #   Column        Non-Null Count  Dtype  \n",
            "---  ------        --------------  -----  \n",
            " 0   Name          9950 non-null   object \n",
            " 1   Platform      9950 non-null   object \n",
            " 2   Genre         9950 non-null   object \n",
            " 3   Rating        9950 non-null   object \n",
            " 4   Critic_Score  9950 non-null   float64\n",
            " 5   User_Score    9950 non-null   float64\n",
            "dtypes: float64(2), object(4)\n",
            "memory usage: 466.5+ KB\n"
          ]
        }
      ],
      "source": [
        "\n",
        "video_games_final_df = video_games_final_df.rename(columns={'Critic_Score_Imputed':'Critic_Score', 'User_Score_Imputed':'User_Score'})\n",
        "video_games_final_df.info()"
      ]
    },
    {
      "cell_type": "markdown",
      "metadata": {
        "id": "aVJ6ofnQzqa8"
      },
      "source": [
        "**Encoding begings from here.First get the features which are in catergorical data except the name.**"
      ]
    },
    {
      "cell_type": "code",
      "execution_count": 17,
      "metadata": {
        "colab": {
          "base_uri": "https://localhost:8080/"
        },
        "id": "2TO3ZWsyzz9q",
        "outputId": "b50b31eb-f05b-4fbd-dd7e-994e1d0d0bd3"
      },
      "outputs": [
        {
          "name": "stdout",
          "output_type": "stream",
          "text": [
            "There are 3 categorical features:\n",
            "\n",
            "Platform, Genre, Rating\n"
          ]
        }
      ],
      "source": [
        "categorical_columns = [name for name in video_games_final_df.columns if video_games_final_df[name].dtype=='O']\n",
        "categorical_columns = categorical_columns[1:]\n",
        "\n",
        "print(f'There are {len(categorical_columns)} categorical features:\\n')\n",
        "print(\", \".join(categorical_columns))"
      ]
    },
    {
      "cell_type": "markdown",
      "metadata": {
        "id": "CqGMhck3z2B4"
      },
      "source": [
        "**Convert all catergorical data to binary and review it using the head function**"
      ]
    },
    {
      "cell_type": "code",
      "execution_count": 18,
      "metadata": {
        "colab": {
          "base_uri": "https://localhost:8080/",
          "height": 359
        },
        "id": "V-1hHP8O0APM",
        "outputId": "7591d4b5-619e-4f5d-e515-8e26183c73a1"
      },
      "outputs": [
        {
          "data": {
            "text/html": [
              "<div>\n",
              "<style scoped>\n",
              "    .dataframe tbody tr th:only-of-type {\n",
              "        vertical-align: middle;\n",
              "    }\n",
              "\n",
              "    .dataframe tbody tr th {\n",
              "        vertical-align: top;\n",
              "    }\n",
              "\n",
              "    .dataframe thead th {\n",
              "        text-align: right;\n",
              "    }\n",
              "</style>\n",
              "<table border=\"1\" class=\"dataframe\">\n",
              "  <thead>\n",
              "    <tr style=\"text-align: right;\">\n",
              "      <th></th>\n",
              "      <th>Name</th>\n",
              "      <th>Critic_Score</th>\n",
              "      <th>User_Score</th>\n",
              "      <th>Platform_3DS</th>\n",
              "      <th>Platform_DC</th>\n",
              "      <th>Platform_DS</th>\n",
              "      <th>Platform_GBA</th>\n",
              "      <th>Platform_GC</th>\n",
              "      <th>Platform_PC</th>\n",
              "      <th>Platform_PS</th>\n",
              "      <th>...</th>\n",
              "      <th>Genre_Sports</th>\n",
              "      <th>Genre_Strategy</th>\n",
              "      <th>Rating_AO</th>\n",
              "      <th>Rating_E</th>\n",
              "      <th>Rating_E10+</th>\n",
              "      <th>Rating_EC</th>\n",
              "      <th>Rating_K-A</th>\n",
              "      <th>Rating_M</th>\n",
              "      <th>Rating_RP</th>\n",
              "      <th>Rating_T</th>\n",
              "    </tr>\n",
              "  </thead>\n",
              "  <tbody>\n",
              "    <tr>\n",
              "      <th>0</th>\n",
              "      <td>Wii Sports</td>\n",
              "      <td>76.0</td>\n",
              "      <td>8.0</td>\n",
              "      <td>False</td>\n",
              "      <td>False</td>\n",
              "      <td>False</td>\n",
              "      <td>False</td>\n",
              "      <td>False</td>\n",
              "      <td>False</td>\n",
              "      <td>False</td>\n",
              "      <td>...</td>\n",
              "      <td>True</td>\n",
              "      <td>False</td>\n",
              "      <td>False</td>\n",
              "      <td>True</td>\n",
              "      <td>False</td>\n",
              "      <td>False</td>\n",
              "      <td>False</td>\n",
              "      <td>False</td>\n",
              "      <td>False</td>\n",
              "      <td>False</td>\n",
              "    </tr>\n",
              "    <tr>\n",
              "      <th>1</th>\n",
              "      <td>Mario Kart Wii</td>\n",
              "      <td>82.0</td>\n",
              "      <td>8.3</td>\n",
              "      <td>False</td>\n",
              "      <td>False</td>\n",
              "      <td>False</td>\n",
              "      <td>False</td>\n",
              "      <td>False</td>\n",
              "      <td>False</td>\n",
              "      <td>False</td>\n",
              "      <td>...</td>\n",
              "      <td>False</td>\n",
              "      <td>False</td>\n",
              "      <td>False</td>\n",
              "      <td>True</td>\n",
              "      <td>False</td>\n",
              "      <td>False</td>\n",
              "      <td>False</td>\n",
              "      <td>False</td>\n",
              "      <td>False</td>\n",
              "      <td>False</td>\n",
              "    </tr>\n",
              "    <tr>\n",
              "      <th>2</th>\n",
              "      <td>Wii Sports Resort</td>\n",
              "      <td>80.0</td>\n",
              "      <td>8.0</td>\n",
              "      <td>False</td>\n",
              "      <td>False</td>\n",
              "      <td>False</td>\n",
              "      <td>False</td>\n",
              "      <td>False</td>\n",
              "      <td>False</td>\n",
              "      <td>False</td>\n",
              "      <td>...</td>\n",
              "      <td>True</td>\n",
              "      <td>False</td>\n",
              "      <td>False</td>\n",
              "      <td>True</td>\n",
              "      <td>False</td>\n",
              "      <td>False</td>\n",
              "      <td>False</td>\n",
              "      <td>False</td>\n",
              "      <td>False</td>\n",
              "      <td>False</td>\n",
              "    </tr>\n",
              "    <tr>\n",
              "      <th>3</th>\n",
              "      <td>New Super Mario Bros.</td>\n",
              "      <td>89.0</td>\n",
              "      <td>8.5</td>\n",
              "      <td>False</td>\n",
              "      <td>False</td>\n",
              "      <td>True</td>\n",
              "      <td>False</td>\n",
              "      <td>False</td>\n",
              "      <td>False</td>\n",
              "      <td>False</td>\n",
              "      <td>...</td>\n",
              "      <td>False</td>\n",
              "      <td>False</td>\n",
              "      <td>False</td>\n",
              "      <td>True</td>\n",
              "      <td>False</td>\n",
              "      <td>False</td>\n",
              "      <td>False</td>\n",
              "      <td>False</td>\n",
              "      <td>False</td>\n",
              "      <td>False</td>\n",
              "    </tr>\n",
              "    <tr>\n",
              "      <th>4</th>\n",
              "      <td>Wii Play</td>\n",
              "      <td>58.0</td>\n",
              "      <td>6.6</td>\n",
              "      <td>False</td>\n",
              "      <td>False</td>\n",
              "      <td>False</td>\n",
              "      <td>False</td>\n",
              "      <td>False</td>\n",
              "      <td>False</td>\n",
              "      <td>False</td>\n",
              "      <td>...</td>\n",
              "      <td>False</td>\n",
              "      <td>False</td>\n",
              "      <td>False</td>\n",
              "      <td>True</td>\n",
              "      <td>False</td>\n",
              "      <td>False</td>\n",
              "      <td>False</td>\n",
              "      <td>False</td>\n",
              "      <td>False</td>\n",
              "      <td>False</td>\n",
              "    </tr>\n",
              "  </tbody>\n",
              "</table>\n",
              "<p>5 rows × 40 columns</p>\n",
              "</div>"
            ],
            "text/plain": [
              "                    Name  Critic_Score  User_Score  Platform_3DS  Platform_DC  \\\n",
              "0             Wii Sports          76.0         8.0         False        False   \n",
              "1         Mario Kart Wii          82.0         8.3         False        False   \n",
              "2      Wii Sports Resort          80.0         8.0         False        False   \n",
              "3  New Super Mario Bros.          89.0         8.5         False        False   \n",
              "4               Wii Play          58.0         6.6         False        False   \n",
              "\n",
              "   Platform_DS  Platform_GBA  Platform_GC  Platform_PC  Platform_PS  ...  \\\n",
              "0        False         False        False        False        False  ...   \n",
              "1        False         False        False        False        False  ...   \n",
              "2        False         False        False        False        False  ...   \n",
              "3         True         False        False        False        False  ...   \n",
              "4        False         False        False        False        False  ...   \n",
              "\n",
              "   Genre_Sports  Genre_Strategy  Rating_AO  Rating_E  Rating_E10+  Rating_EC  \\\n",
              "0          True           False      False      True        False      False   \n",
              "1         False           False      False      True        False      False   \n",
              "2          True           False      False      True        False      False   \n",
              "3         False           False      False      True        False      False   \n",
              "4         False           False      False      True        False      False   \n",
              "\n",
              "   Rating_K-A  Rating_M  Rating_RP  Rating_T  \n",
              "0       False     False      False     False  \n",
              "1       False     False      False     False  \n",
              "2       False     False      False     False  \n",
              "3       False     False      False     False  \n",
              "4       False     False      False     False  \n",
              "\n",
              "[5 rows x 40 columns]"
            ]
          },
          "execution_count": 18,
          "metadata": {},
          "output_type": "execute_result"
        }
      ],
      "source": [
        "video_games_df_dummy = pd.get_dummies(data=video_games_final_df, columns=categorical_columns)\n",
        "video_games_df_dummy.head(5)"
      ]
    },
    {
      "cell_type": "markdown",
      "metadata": {
        "id": "JuHF775J0T9c"
      },
      "source": [
        "**Transform numerical data to a standardized form by scaling them to have a mean of 0 and a standard deviation of 1. The purpose of standardization is to ensure that all features are on a similar scale and have equal importance in determining the output variable**."
      ]
    },
    {
      "cell_type": "markdown",
      "metadata": {
        "id": "nGfGeuPL0d_1"
      },
      "source": [
        "**The data distribution issues will get reduce by this method**"
      ]
    },
    {
      "cell_type": "code",
      "execution_count": 19,
      "metadata": {
        "colab": {
          "base_uri": "https://localhost:8080/",
          "height": 461
        },
        "id": "SVb8QoFz0RLy",
        "outputId": "c27910e1-594a-4491-8a51-1d5e72ba1807"
      },
      "outputs": [
        {
          "data": {
            "text/html": [
              "<div>\n",
              "<style scoped>\n",
              "    .dataframe tbody tr th:only-of-type {\n",
              "        vertical-align: middle;\n",
              "    }\n",
              "\n",
              "    .dataframe tbody tr th {\n",
              "        vertical-align: top;\n",
              "    }\n",
              "\n",
              "    .dataframe thead th {\n",
              "        text-align: right;\n",
              "    }\n",
              "</style>\n",
              "<table border=\"1\" class=\"dataframe\">\n",
              "  <thead>\n",
              "    <tr style=\"text-align: right;\">\n",
              "      <th></th>\n",
              "      <th>Critic_Score</th>\n",
              "      <th>User_Score</th>\n",
              "      <th>Platform_3DS</th>\n",
              "      <th>Platform_DC</th>\n",
              "      <th>Platform_DS</th>\n",
              "      <th>Platform_GBA</th>\n",
              "      <th>Platform_GC</th>\n",
              "      <th>Platform_PC</th>\n",
              "      <th>Platform_PS</th>\n",
              "      <th>Platform_PS2</th>\n",
              "      <th>...</th>\n",
              "      <th>Genre_Sports</th>\n",
              "      <th>Genre_Strategy</th>\n",
              "      <th>Rating_AO</th>\n",
              "      <th>Rating_E</th>\n",
              "      <th>Rating_E10+</th>\n",
              "      <th>Rating_EC</th>\n",
              "      <th>Rating_K-A</th>\n",
              "      <th>Rating_M</th>\n",
              "      <th>Rating_RP</th>\n",
              "      <th>Rating_T</th>\n",
              "    </tr>\n",
              "  </thead>\n",
              "  <tbody>\n",
              "    <tr>\n",
              "      <th>0</th>\n",
              "      <td>0.567605</td>\n",
              "      <td>0.683282</td>\n",
              "      <td>-0.15314</td>\n",
              "      <td>-0.037537</td>\n",
              "      <td>-0.383200</td>\n",
              "      <td>-0.235302</td>\n",
              "      <td>-0.222413</td>\n",
              "      <td>-0.290432</td>\n",
              "      <td>-0.146119</td>\n",
              "      <td>-0.418178</td>\n",
              "      <td>...</td>\n",
              "      <td>2.365115</td>\n",
              "      <td>-0.187809</td>\n",
              "      <td>-0.010026</td>\n",
              "      <td>1.221929</td>\n",
              "      <td>-0.408009</td>\n",
              "      <td>-0.028367</td>\n",
              "      <td>-0.017367</td>\n",
              "      <td>-0.431694</td>\n",
              "      <td>-0.017367</td>\n",
              "      <td>-0.650896</td>\n",
              "    </tr>\n",
              "    <tr>\n",
              "      <th>1</th>\n",
              "      <td>1.044034</td>\n",
              "      <td>0.913026</td>\n",
              "      <td>-0.15314</td>\n",
              "      <td>-0.037537</td>\n",
              "      <td>-0.383200</td>\n",
              "      <td>-0.235302</td>\n",
              "      <td>-0.222413</td>\n",
              "      <td>-0.290432</td>\n",
              "      <td>-0.146119</td>\n",
              "      <td>-0.418178</td>\n",
              "      <td>...</td>\n",
              "      <td>-0.422812</td>\n",
              "      <td>-0.187809</td>\n",
              "      <td>-0.010026</td>\n",
              "      <td>1.221929</td>\n",
              "      <td>-0.408009</td>\n",
              "      <td>-0.028367</td>\n",
              "      <td>-0.017367</td>\n",
              "      <td>-0.431694</td>\n",
              "      <td>-0.017367</td>\n",
              "      <td>-0.650896</td>\n",
              "    </tr>\n",
              "    <tr>\n",
              "      <th>2</th>\n",
              "      <td>0.885224</td>\n",
              "      <td>0.683282</td>\n",
              "      <td>-0.15314</td>\n",
              "      <td>-0.037537</td>\n",
              "      <td>-0.383200</td>\n",
              "      <td>-0.235302</td>\n",
              "      <td>-0.222413</td>\n",
              "      <td>-0.290432</td>\n",
              "      <td>-0.146119</td>\n",
              "      <td>-0.418178</td>\n",
              "      <td>...</td>\n",
              "      <td>2.365115</td>\n",
              "      <td>-0.187809</td>\n",
              "      <td>-0.010026</td>\n",
              "      <td>1.221929</td>\n",
              "      <td>-0.408009</td>\n",
              "      <td>-0.028367</td>\n",
              "      <td>-0.017367</td>\n",
              "      <td>-0.431694</td>\n",
              "      <td>-0.017367</td>\n",
              "      <td>-0.650896</td>\n",
              "    </tr>\n",
              "    <tr>\n",
              "      <th>3</th>\n",
              "      <td>1.599867</td>\n",
              "      <td>1.066188</td>\n",
              "      <td>-0.15314</td>\n",
              "      <td>-0.037537</td>\n",
              "      <td>2.609607</td>\n",
              "      <td>-0.235302</td>\n",
              "      <td>-0.222413</td>\n",
              "      <td>-0.290432</td>\n",
              "      <td>-0.146119</td>\n",
              "      <td>-0.418178</td>\n",
              "      <td>...</td>\n",
              "      <td>-0.422812</td>\n",
              "      <td>-0.187809</td>\n",
              "      <td>-0.010026</td>\n",
              "      <td>1.221929</td>\n",
              "      <td>-0.408009</td>\n",
              "      <td>-0.028367</td>\n",
              "      <td>-0.017367</td>\n",
              "      <td>-0.431694</td>\n",
              "      <td>-0.017367</td>\n",
              "      <td>-0.650896</td>\n",
              "    </tr>\n",
              "    <tr>\n",
              "      <th>4</th>\n",
              "      <td>-0.861681</td>\n",
              "      <td>-0.388855</td>\n",
              "      <td>-0.15314</td>\n",
              "      <td>-0.037537</td>\n",
              "      <td>-0.383200</td>\n",
              "      <td>-0.235302</td>\n",
              "      <td>-0.222413</td>\n",
              "      <td>-0.290432</td>\n",
              "      <td>-0.146119</td>\n",
              "      <td>-0.418178</td>\n",
              "      <td>...</td>\n",
              "      <td>-0.422812</td>\n",
              "      <td>-0.187809</td>\n",
              "      <td>-0.010026</td>\n",
              "      <td>1.221929</td>\n",
              "      <td>-0.408009</td>\n",
              "      <td>-0.028367</td>\n",
              "      <td>-0.017367</td>\n",
              "      <td>-0.431694</td>\n",
              "      <td>-0.017367</td>\n",
              "      <td>-0.650896</td>\n",
              "    </tr>\n",
              "    <tr>\n",
              "      <th>...</th>\n",
              "      <td>...</td>\n",
              "      <td>...</td>\n",
              "      <td>...</td>\n",
              "      <td>...</td>\n",
              "      <td>...</td>\n",
              "      <td>...</td>\n",
              "      <td>...</td>\n",
              "      <td>...</td>\n",
              "      <td>...</td>\n",
              "      <td>...</td>\n",
              "      <td>...</td>\n",
              "      <td>...</td>\n",
              "      <td>...</td>\n",
              "      <td>...</td>\n",
              "      <td>...</td>\n",
              "      <td>...</td>\n",
              "      <td>...</td>\n",
              "      <td>...</td>\n",
              "      <td>...</td>\n",
              "      <td>...</td>\n",
              "      <td>...</td>\n",
              "    </tr>\n",
              "    <tr>\n",
              "      <th>9945</th>\n",
              "      <td>-1.258704</td>\n",
              "      <td>0.051487</td>\n",
              "      <td>-0.15314</td>\n",
              "      <td>-0.037537</td>\n",
              "      <td>-0.383200</td>\n",
              "      <td>-0.235302</td>\n",
              "      <td>4.496149</td>\n",
              "      <td>-0.290432</td>\n",
              "      <td>-0.146119</td>\n",
              "      <td>-0.418178</td>\n",
              "      <td>...</td>\n",
              "      <td>-0.422812</td>\n",
              "      <td>-0.187809</td>\n",
              "      <td>-0.010026</td>\n",
              "      <td>1.221929</td>\n",
              "      <td>-0.408009</td>\n",
              "      <td>-0.028367</td>\n",
              "      <td>-0.017367</td>\n",
              "      <td>-0.431694</td>\n",
              "      <td>-0.017367</td>\n",
              "      <td>-0.650896</td>\n",
              "    </tr>\n",
              "    <tr>\n",
              "      <th>9946</th>\n",
              "      <td>-1.655728</td>\n",
              "      <td>0.051487</td>\n",
              "      <td>-0.15314</td>\n",
              "      <td>-0.037537</td>\n",
              "      <td>2.609607</td>\n",
              "      <td>-0.235302</td>\n",
              "      <td>-0.222413</td>\n",
              "      <td>-0.290432</td>\n",
              "      <td>-0.146119</td>\n",
              "      <td>-0.418178</td>\n",
              "      <td>...</td>\n",
              "      <td>-0.422812</td>\n",
              "      <td>-0.187809</td>\n",
              "      <td>-0.010026</td>\n",
              "      <td>1.221929</td>\n",
              "      <td>-0.408009</td>\n",
              "      <td>-0.028367</td>\n",
              "      <td>-0.017367</td>\n",
              "      <td>-0.431694</td>\n",
              "      <td>-0.017367</td>\n",
              "      <td>-0.650896</td>\n",
              "    </tr>\n",
              "    <tr>\n",
              "      <th>9947</th>\n",
              "      <td>-0.702871</td>\n",
              "      <td>0.070632</td>\n",
              "      <td>-0.15314</td>\n",
              "      <td>-0.037537</td>\n",
              "      <td>-0.383200</td>\n",
              "      <td>-0.235302</td>\n",
              "      <td>-0.222413</td>\n",
              "      <td>3.443152</td>\n",
              "      <td>-0.146119</td>\n",
              "      <td>-0.418178</td>\n",
              "      <td>...</td>\n",
              "      <td>-0.422812</td>\n",
              "      <td>5.324569</td>\n",
              "      <td>-0.010026</td>\n",
              "      <td>-0.818378</td>\n",
              "      <td>2.450927</td>\n",
              "      <td>-0.028367</td>\n",
              "      <td>-0.017367</td>\n",
              "      <td>-0.431694</td>\n",
              "      <td>-0.017367</td>\n",
              "      <td>-0.650896</td>\n",
              "    </tr>\n",
              "    <tr>\n",
              "      <th>9948</th>\n",
              "      <td>-0.020951</td>\n",
              "      <td>0.022146</td>\n",
              "      <td>-0.15314</td>\n",
              "      <td>-0.037537</td>\n",
              "      <td>2.609607</td>\n",
              "      <td>-0.235302</td>\n",
              "      <td>-0.222413</td>\n",
              "      <td>-0.290432</td>\n",
              "      <td>-0.146119</td>\n",
              "      <td>-0.418178</td>\n",
              "      <td>...</td>\n",
              "      <td>-0.422812</td>\n",
              "      <td>-0.187809</td>\n",
              "      <td>-0.010026</td>\n",
              "      <td>1.221929</td>\n",
              "      <td>-0.408009</td>\n",
              "      <td>-0.028367</td>\n",
              "      <td>-0.017367</td>\n",
              "      <td>-0.431694</td>\n",
              "      <td>-0.017367</td>\n",
              "      <td>-0.650896</td>\n",
              "    </tr>\n",
              "    <tr>\n",
              "      <th>9949</th>\n",
              "      <td>0.106213</td>\n",
              "      <td>-0.047910</td>\n",
              "      <td>-0.15314</td>\n",
              "      <td>-0.037537</td>\n",
              "      <td>-0.383200</td>\n",
              "      <td>-0.235302</td>\n",
              "      <td>4.496149</td>\n",
              "      <td>-0.290432</td>\n",
              "      <td>-0.146119</td>\n",
              "      <td>-0.418178</td>\n",
              "      <td>...</td>\n",
              "      <td>-0.422812</td>\n",
              "      <td>-0.187809</td>\n",
              "      <td>-0.010026</td>\n",
              "      <td>-0.818378</td>\n",
              "      <td>-0.408009</td>\n",
              "      <td>-0.028367</td>\n",
              "      <td>-0.017367</td>\n",
              "      <td>-0.431694</td>\n",
              "      <td>-0.017367</td>\n",
              "      <td>1.536343</td>\n",
              "    </tr>\n",
              "  </tbody>\n",
              "</table>\n",
              "<p>9950 rows × 39 columns</p>\n",
              "</div>"
            ],
            "text/plain": [
              "      Critic_Score  User_Score  Platform_3DS  Platform_DC  Platform_DS  \\\n",
              "0         0.567605    0.683282      -0.15314    -0.037537    -0.383200   \n",
              "1         1.044034    0.913026      -0.15314    -0.037537    -0.383200   \n",
              "2         0.885224    0.683282      -0.15314    -0.037537    -0.383200   \n",
              "3         1.599867    1.066188      -0.15314    -0.037537     2.609607   \n",
              "4        -0.861681   -0.388855      -0.15314    -0.037537    -0.383200   \n",
              "...            ...         ...           ...          ...          ...   \n",
              "9945     -1.258704    0.051487      -0.15314    -0.037537    -0.383200   \n",
              "9946     -1.655728    0.051487      -0.15314    -0.037537     2.609607   \n",
              "9947     -0.702871    0.070632      -0.15314    -0.037537    -0.383200   \n",
              "9948     -0.020951    0.022146      -0.15314    -0.037537     2.609607   \n",
              "9949      0.106213   -0.047910      -0.15314    -0.037537    -0.383200   \n",
              "\n",
              "      Platform_GBA  Platform_GC  Platform_PC  Platform_PS  Platform_PS2  ...  \\\n",
              "0        -0.235302    -0.222413    -0.290432    -0.146119     -0.418178  ...   \n",
              "1        -0.235302    -0.222413    -0.290432    -0.146119     -0.418178  ...   \n",
              "2        -0.235302    -0.222413    -0.290432    -0.146119     -0.418178  ...   \n",
              "3        -0.235302    -0.222413    -0.290432    -0.146119     -0.418178  ...   \n",
              "4        -0.235302    -0.222413    -0.290432    -0.146119     -0.418178  ...   \n",
              "...            ...          ...          ...          ...           ...  ...   \n",
              "9945     -0.235302     4.496149    -0.290432    -0.146119     -0.418178  ...   \n",
              "9946     -0.235302    -0.222413    -0.290432    -0.146119     -0.418178  ...   \n",
              "9947     -0.235302    -0.222413     3.443152    -0.146119     -0.418178  ...   \n",
              "9948     -0.235302    -0.222413    -0.290432    -0.146119     -0.418178  ...   \n",
              "9949     -0.235302     4.496149    -0.290432    -0.146119     -0.418178  ...   \n",
              "\n",
              "      Genre_Sports  Genre_Strategy  Rating_AO  Rating_E  Rating_E10+  \\\n",
              "0         2.365115       -0.187809  -0.010026  1.221929    -0.408009   \n",
              "1        -0.422812       -0.187809  -0.010026  1.221929    -0.408009   \n",
              "2         2.365115       -0.187809  -0.010026  1.221929    -0.408009   \n",
              "3        -0.422812       -0.187809  -0.010026  1.221929    -0.408009   \n",
              "4        -0.422812       -0.187809  -0.010026  1.221929    -0.408009   \n",
              "...            ...             ...        ...       ...          ...   \n",
              "9945     -0.422812       -0.187809  -0.010026  1.221929    -0.408009   \n",
              "9946     -0.422812       -0.187809  -0.010026  1.221929    -0.408009   \n",
              "9947     -0.422812        5.324569  -0.010026 -0.818378     2.450927   \n",
              "9948     -0.422812       -0.187809  -0.010026  1.221929    -0.408009   \n",
              "9949     -0.422812       -0.187809  -0.010026 -0.818378    -0.408009   \n",
              "\n",
              "      Rating_EC  Rating_K-A  Rating_M  Rating_RP  Rating_T  \n",
              "0     -0.028367   -0.017367 -0.431694  -0.017367 -0.650896  \n",
              "1     -0.028367   -0.017367 -0.431694  -0.017367 -0.650896  \n",
              "2     -0.028367   -0.017367 -0.431694  -0.017367 -0.650896  \n",
              "3     -0.028367   -0.017367 -0.431694  -0.017367 -0.650896  \n",
              "4     -0.028367   -0.017367 -0.431694  -0.017367 -0.650896  \n",
              "...         ...         ...       ...        ...       ...  \n",
              "9945  -0.028367   -0.017367 -0.431694  -0.017367 -0.650896  \n",
              "9946  -0.028367   -0.017367 -0.431694  -0.017367 -0.650896  \n",
              "9947  -0.028367   -0.017367 -0.431694  -0.017367 -0.650896  \n",
              "9948  -0.028367   -0.017367 -0.431694  -0.017367 -0.650896  \n",
              "9949  -0.028367   -0.017367 -0.431694  -0.017367  1.536343  \n",
              "\n",
              "[9950 rows x 39 columns]"
            ]
          },
          "execution_count": 19,
          "metadata": {},
          "output_type": "execute_result"
        }
      ],
      "source": [
        "features = video_games_df_dummy.drop(columns=['Name'], axis=1)\n",
        "\n",
        "scale = StandardScaler()\n",
        "scaled_features = scale.fit_transform(features)\n",
        "scaled_features = pd.DataFrame(scaled_features, columns=features.columns)\n",
        "\n",
        "scaled_features"
      ]
    },
    {
      "cell_type": "code",
      "execution_count": 20,
      "metadata": {},
      "outputs": [],
      "source": [
        "# Save scaled data for future use\n",
        "import pickle\n",
        "\n",
        "\n",
        "with open('scaled_features.pkl', 'wb') as f:\n",
        "    pickle.dump(scaled_features, f)"
      ]
    },
    {
      "cell_type": "markdown",
      "metadata": {
        "id": "xlwh4l-60aEy"
      },
      "source": [
        "**Data cleaning and preprocessing is done .Here onwards we starts the data modeling section.**"
      ]
    },
    {
      "cell_type": "markdown",
      "metadata": {
        "id": "MBxYSR1-0-uE"
      },
      "source": [
        "**The data modeling approaches include collaborative filtering, content-based filtering, and hybrid methods.**"
      ]
    },
    {
      "cell_type": "markdown",
      "metadata": {
        "id": "sUIXbvHO1JIb"
      },
      "source": [
        "**Collaborative filtering is implemented first to provide recommendations based on user behavior and preferences.**"
      ]
    },
    {
      "cell_type": "markdown",
      "metadata": {
        "id": "vcD7J7oV1cD3"
      },
      "source": [
        "**NearestNeighbors will be utilized to identify the data points nearest to a given input, with the aid of the cosine similarity measurement to determine the similarity or dissimilarity between data points.**"
      ]
    },
    {
      "cell_type": "code",
      "execution_count": 21,
      "metadata": {
        "colab": {
          "base_uri": "https://localhost:8080/"
        },
        "id": "u9xcNTws1iyZ",
        "outputId": "98dcf12b-89b1-4705-95af-ce3b3b8ce40d"
      },
      "outputs": [
        {
          "name": "stdout",
          "output_type": "stream",
          "text": [
            "NearestNeighbors(algorithm='brute', metric='cosine', n_neighbors=11)\n"
          ]
        }
      ],
      "source": [
        "model = NearestNeighbors(n_neighbors=11, metric='cosine', algorithm='brute').fit(scaled_features)\n",
        "print(model)"
      ]
    },
    {
      "cell_type": "code",
      "execution_count": 22,
      "metadata": {},
      "outputs": [],
      "source": [
        "# Save the model\n",
        "with open('knn_model.pkl', 'wb') as f:\n",
        "    pickle.dump(model, f)\n",
        "\n",
        "# Load model when needed\n",
        "with open('knn_model.pkl', 'rb') as f:\n",
        "    model = pickle.load(f)"
      ]
    },
    {
      "cell_type": "markdown",
      "metadata": {
        "id": "O5P_j-HTBmiw"
      },
      "source": [
        "**The indexes and distances for the nearest neighbors of the first 5 games are displayed using the kneighbors method, showing the closest games based on the scaled feature set**"
      ]
    },
    {
      "cell_type": "code",
      "execution_count": 23,
      "metadata": {
        "colab": {
          "base_uri": "https://localhost:8080/"
        },
        "id": "bk_sfDZP1obm",
        "outputId": "ad1b9555-ba12-4b98-90fd-c8e09aefbe2a"
      },
      "outputs": [
        {
          "name": "stdout",
          "output_type": "stream",
          "text": [
            "List of indexes and distances for the first 5 games:\n",
            "\n",
            "[[   0 3228 3812 1091    2 3555 2812    7 1635 3314 1062]\n",
            " [   1 4447 2648 3818 3200 5731 3291 2917 4782 1660 7624]\n",
            " [   2 2812 1091    7 1635    0 3228 2741 4139 1170 2595]\n",
            " [   3 1989 1435  310 8036 1210 1059 3986 7920 4218  384]\n",
            " [   4 3333   54 3101 5314  991  208  650 5178 7952 4432]] \n",
            "\n",
            "[[0.00000000e+00 1.45719262e-04 7.95959057e-04 1.52363383e-03\n",
            "  2.48420244e-03 2.76264905e-03 3.85590684e-03 3.90039612e-03\n",
            "  4.56853634e-03 4.76778616e-03 4.88365814e-03]\n",
            " [1.11022302e-16 4.12331472e-03 1.25114932e-02 1.79102267e-02\n",
            "  1.83496406e-02 2.76557305e-02 2.76557305e-02 3.40316310e-02\n",
            "  3.42846867e-02 3.53362240e-02 4.36579924e-02]\n",
            " [1.11022302e-16 1.50397540e-04 3.04331263e-04 1.30700527e-03\n",
            "  2.23694972e-03 2.48420244e-03 2.65392852e-03 2.71666441e-03\n",
            "  3.38307214e-03 3.38307214e-03 3.43195161e-03]\n",
            " [2.22044605e-16 1.60977583e-03 3.62042660e-03 4.76682680e-03\n",
            "  1.20358234e-02 1.27341263e-02 1.30603498e-02 1.37578769e-02\n",
            "  1.60735434e-02 1.72546239e-02 1.75795329e-02]\n",
            " [2.22044605e-16 7.42656466e-04 3.15215501e-03 3.54096139e-03\n",
            "  3.68341212e-03 4.31829160e-03 4.60562859e-03 9.51362763e-03\n",
            "  1.02031863e-02 1.03194642e-02 1.03194642e-02]]\n"
          ]
        }
      ],
      "source": [
        "vg_distances, vg_indices = model.kneighbors(scaled_features)\n",
        "\n",
        "print(\"List of indexes and distances for the first 5 games:\\n\")\n",
        "print(vg_indices[:5], \"\\n\")\n",
        "print(vg_distances[:5])"
      ]
    },
    {
      "cell_type": "markdown",
      "metadata": {
        "id": "2Q6BH5bT1uqI"
      },
      "source": [
        "**Now will move to the content base filtering by usinf TF-IDF approach**"
      ]
    },
    {
      "cell_type": "code",
      "execution_count": 24,
      "metadata": {
        "colab": {
          "base_uri": "https://localhost:8080/"
        },
        "id": "3aIa1lLs100e",
        "outputId": "5d0d5a33-9420-4f53-9ead-e1fc95693159"
      },
      "outputs": [
        {
          "name": "stdout",
          "output_type": "stream",
          "text": [
            "TfidfVectorizer()\n"
          ]
        }
      ],
      "source": [
        "game_names = video_games_df_dummy['Name'].drop_duplicates().reset_index(drop=True)\n",
        "\n",
        "vectorizer = TfidfVectorizer(use_idf=True).fit(game_names)\n",
        "print(vectorizer)"
      ]
    },
    {
      "cell_type": "code",
      "execution_count": 25,
      "metadata": {
        "colab": {
          "base_uri": "https://localhost:8080/"
        },
        "id": "kNHyTaa518Vq",
        "outputId": "239ccfc7-75db-4fa4-da54-d6f88186fd99"
      },
      "outputs": [
        {
          "name": "stdout",
          "output_type": "stream",
          "text": [
            "List of game title vectors for the first 5 games:\n",
            "\n",
            "   0     1     2     3     4     5     6     7     8     9     ...  4812  \\\n",
            "0   0.0   0.0   0.0   0.0   0.0   0.0   0.0   0.0   0.0   0.0  ...   0.0   \n",
            "1   0.0   0.0   0.0   0.0   0.0   0.0   0.0   0.0   0.0   0.0  ...   0.0   \n",
            "2   0.0   0.0   0.0   0.0   0.0   0.0   0.0   0.0   0.0   0.0  ...   0.0   \n",
            "3   0.0   0.0   0.0   0.0   0.0   0.0   0.0   0.0   0.0   0.0  ...   0.0   \n",
            "4   0.0   0.0   0.0   0.0   0.0   0.0   0.0   0.0   0.0   0.0  ...   0.0   \n",
            "\n",
            "   4813  4814  4815  4816  4817  4818  4819  4820  4821  \n",
            "0   0.0   0.0   0.0   0.0   0.0   0.0   0.0   0.0   0.0  \n",
            "1   0.0   0.0   0.0   0.0   0.0   0.0   0.0   0.0   0.0  \n",
            "2   0.0   0.0   0.0   0.0   0.0   0.0   0.0   0.0   0.0  \n",
            "3   0.0   0.0   0.0   0.0   0.0   0.0   0.0   0.0   0.0  \n",
            "4   0.0   0.0   0.0   0.0   0.0   0.0   0.0   0.0   0.0  \n",
            "\n",
            "[5 rows x 4822 columns]\n"
          ]
        }
      ],
      "source": [
        "game_title_vectors = vectorizer.transform(game_names)\n",
        "\n",
        "print(\"List of game title vectors for the first 5 games:\\n\")\n",
        "print(pd.DataFrame(game_title_vectors.toarray()).head(5))"
      ]
    },
    {
      "cell_type": "code",
      "execution_count": 26,
      "metadata": {},
      "outputs": [],
      "source": [
        "# Save TF-IDF vectorizer for future use\n",
        "with open('tfidf_vectorizer.pkl', 'wb') as f:\n",
        "    pickle.dump(vectorizer, f)\n"
      ]
    },
    {
      "cell_type": "markdown",
      "metadata": {
        "id": "jKvqHVgA2Azs"
      },
      "source": [
        "**The model evaluation is completed using a hybrid approach, integrating both collaborative filtering and content-based filtering techniques.**"
      ]
    },
    {
      "cell_type": "code",
      "execution_count": 34,
      "metadata": {},
      "outputs": [],
      "source": [
        "from fuzzywuzzy import process\n",
        "\n",
        "def VideoGameTitleRecommender(video_game_name):\n",
        "    closest_match = process.extractOne(video_game_name, game_names)\n",
        "    return closest_match[0]  # returns the best match"
      ]
    },
    {
      "cell_type": "markdown",
      "metadata": {
        "id": "sK58sjPA2WI-"
      },
      "source": [
        "**The below function will recomend a agame title which is closest match to the input**"
      ]
    },
    {
      "cell_type": "code",
      "execution_count": 35,
      "metadata": {
        "id": "YQgrAt1a5iWs"
      },
      "outputs": [],
      "source": [
        "# Main game recommendation function\n",
        "def VideoGameRecommender(video_game_name, video_game_platform='Any'):\n",
        "    '''\n",
        "    This function will provide game recommendations based on various features of the game.\n",
        "    It uses both collaborative filtering and content-based filtering.\n",
        "    '''\n",
        "    default_platform = 'Any'\n",
        "\n",
        "    # Clean and normalize the input game name\n",
        "    video_game_name = video_game_name.lower().strip()\n",
        "\n",
        "    # Ensure that the game names in the dataframe are also normalized for consistency\n",
        "    video_games_final_df['Name'] = video_games_final_df['Name'].str.lower().str.strip()\n",
        "\n",
        "    # User input: Game Title and Platform\n",
        "    if video_game_platform != default_platform:\n",
        "        video_game_idx = video_games_final_df.query(\"Name == @video_game_name & Platform == @video_game_platform\").index\n",
        "\n",
        "        # If game with specified platform doesn't exist, check without the platform\n",
        "        if len(video_game_idx) == 0:\n",
        "            video_game_idx = video_games_final_df.query(\"Name == @video_game_name\").index\n",
        "\n",
        "            if len(video_game_idx) > 0:\n",
        "                print(f\"Note: Recommendations will be based on the title of the game as it is not available on the specified platform.\\n\")\n",
        "                video_game_platform = default_platform\n",
        "\n",
        "    else:\n",
        "        video_game_idx = video_games_final_df.query(\"Name == @video_game_name\").index\n",
        "\n",
        "    # If no match is found in the dataset\n",
        "    if len(video_game_idx) == 0:\n",
        "        closest_match_game_name = VideoGameTitleRecommender(video_game_name)\n",
        "        print(f\"'{video_game_name}' doesn't exist in the records.\\n\")\n",
        "        print(f\"You may want to try '{closest_match_game_name}', which is the closest match to the input.\")\n",
        "    else:\n",
        "        # Content-based filtering and collaborative filtering hybrid\n",
        "        if video_game_platform == default_platform:\n",
        "            vg_combined_dist_idx_df = pd.DataFrame()\n",
        "\n",
        "            # Collect recommendations based on multiple similar games\n",
        "            for idx in video_game_idx:\n",
        "                vg_dist_idx_df = pd.concat([pd.DataFrame(vg_indices[idx][1:]), pd.DataFrame(vg_distances[idx][1:])], axis=1)\n",
        "                vg_combined_dist_idx_df = pd.concat([vg_combined_dist_idx_df, vg_dist_idx_df])\n",
        "\n",
        "            # Set proper axis labels and reset index\n",
        "            vg_combined_dist_idx_df.columns = ['Index', 'Distance']\n",
        "            vg_combined_dist_idx_df = vg_combined_dist_idx_df.reset_index(drop=True)\n",
        "            vg_combined_dist_idx_df = vg_combined_dist_idx_df.sort_values(by='Distance', ascending=True)\n",
        "\n",
        "            # Retrieve the list of recommended games\n",
        "            video_game_list = video_games_final_df.iloc[vg_combined_dist_idx_df['Index']]\n",
        "            video_game_list = video_game_list.drop_duplicates(subset=['Name'], keep='first')  # Remove duplicates\n",
        "\n",
        "            # Get the top 10 games\n",
        "            video_game_list = video_game_list.head(10)\n",
        "            recommended_distances = np.array(vg_combined_dist_idx_df['Distance'].head(10))\n",
        "\n",
        "        else:\n",
        "            # If specific platform is provided, generate recommendations for the closest match\n",
        "            recommended_idx = vg_indices[video_game_idx[0]][1:]\n",
        "            video_game_list = video_games_final_df.iloc[recommended_idx]\n",
        "            recommended_distances = np.array(vg_distances[video_game_idx[0]][1:])\n",
        "\n",
        "        print(f\"Top 10 Recommended Video Games for '{video_game_name}' [platform: {video_game_platform}]:\\n\")\n",
        "\n",
        "        # Merge the recommendation list with the distances\n",
        "        video_game_list = video_game_list.reset_index(drop=True)\n",
        "        recommended_video_game_list = pd.concat([video_game_list, pd.DataFrame(recommended_distances, columns=['Similarity_Distance'])], axis=1)\n",
        "\n",
        "        # Display the top 10 recommendations\n",
        "        recommended_video_game_list.reset_index(drop=True, inplace=True)\n",
        "        display(recommended_video_game_list[['Name', 'Platform', 'Similarity_Distance']])"
      ]
    },
    {
      "cell_type": "code",
      "execution_count": 36,
      "metadata": {},
      "outputs": [
        {
          "name": "stdout",
          "output_type": "stream",
          "text": [
            "'super mario' doesn't exist in the records.\n",
            "\n",
            "You may want to try 'New Super Mario Bros.', which is the closest match to the input.\n"
          ]
        }
      ],
      "source": [
        "# Example usage of VideoGameRecommender function\n",
        "VideoGameRecommender(\"Super Mario\", \"Nintendo\")"
      ]
    },
    {
      "cell_type": "markdown",
      "metadata": {
        "id": "76OhRWORCNIX"
      },
      "source": [
        "\n",
        "**Evaluation of the model starts here. You can call the function below to test the recommendations based on both the user-preferred game name and platform.**"
      ]
    },
    {
      "cell_type": "code",
      "execution_count": 37,
      "metadata": {
        "colab": {
          "base_uri": "https://localhost:8080/",
          "height": 380
        },
        "id": "S9V25XLqTYln",
        "outputId": "3b3ec2e0-557c-4132-d1e8-42d521541539"
      },
      "outputs": [
        {
          "name": "stdout",
          "output_type": "stream",
          "text": [
            "Top 10 Recommended Video Games for 'call of duty: world at war' [platform: PC]:\n",
            "\n"
          ]
        },
        {
          "data": {
            "text/html": [
              "<div>\n",
              "<style scoped>\n",
              "    .dataframe tbody tr th:only-of-type {\n",
              "        vertical-align: middle;\n",
              "    }\n",
              "\n",
              "    .dataframe tbody tr th {\n",
              "        vertical-align: top;\n",
              "    }\n",
              "\n",
              "    .dataframe thead th {\n",
              "        text-align: right;\n",
              "    }\n",
              "</style>\n",
              "<table border=\"1\" class=\"dataframe\">\n",
              "  <thead>\n",
              "    <tr style=\"text-align: right;\">\n",
              "      <th></th>\n",
              "      <th>Name</th>\n",
              "      <th>Platform</th>\n",
              "      <th>Similarity_Distance</th>\n",
              "    </tr>\n",
              "  </thead>\n",
              "  <tbody>\n",
              "    <tr>\n",
              "      <th>0</th>\n",
              "      <td>halo: combat evolved</td>\n",
              "      <td>PC</td>\n",
              "      <td>0.000096</td>\n",
              "    </tr>\n",
              "    <tr>\n",
              "      <th>1</th>\n",
              "      <td>red faction: guerrilla</td>\n",
              "      <td>PC</td>\n",
              "      <td>0.000099</td>\n",
              "    </tr>\n",
              "    <tr>\n",
              "      <th>2</th>\n",
              "      <td>bulletstorm</td>\n",
              "      <td>PC</td>\n",
              "      <td>0.000486</td>\n",
              "    </tr>\n",
              "    <tr>\n",
              "      <th>3</th>\n",
              "      <td>quake 4</td>\n",
              "      <td>PC</td>\n",
              "      <td>0.000499</td>\n",
              "    </tr>\n",
              "    <tr>\n",
              "      <th>4</th>\n",
              "      <td>borderlands</td>\n",
              "      <td>PC</td>\n",
              "      <td>0.001273</td>\n",
              "    </tr>\n",
              "    <tr>\n",
              "      <th>5</th>\n",
              "      <td>crysis: warhead</td>\n",
              "      <td>PC</td>\n",
              "      <td>0.001594</td>\n",
              "    </tr>\n",
              "    <tr>\n",
              "      <th>6</th>\n",
              "      <td>doom 3</td>\n",
              "      <td>PC</td>\n",
              "      <td>0.001621</td>\n",
              "    </tr>\n",
              "    <tr>\n",
              "      <th>7</th>\n",
              "      <td>max payne 3</td>\n",
              "      <td>PC</td>\n",
              "      <td>0.001621</td>\n",
              "    </tr>\n",
              "    <tr>\n",
              "      <th>8</th>\n",
              "      <td>gears of war</td>\n",
              "      <td>PC</td>\n",
              "      <td>0.002337</td>\n",
              "    </tr>\n",
              "    <tr>\n",
              "      <th>9</th>\n",
              "      <td>unreal tournament iii</td>\n",
              "      <td>PC</td>\n",
              "      <td>0.002359</td>\n",
              "    </tr>\n",
              "  </tbody>\n",
              "</table>\n",
              "</div>"
            ],
            "text/plain": [
              "                     Name Platform  Similarity_Distance\n",
              "0    halo: combat evolved       PC             0.000096\n",
              "1  red faction: guerrilla       PC             0.000099\n",
              "2             bulletstorm       PC             0.000486\n",
              "3                 quake 4       PC             0.000499\n",
              "4             borderlands       PC             0.001273\n",
              "5         crysis: warhead       PC             0.001594\n",
              "6                  doom 3       PC             0.001621\n",
              "7             max payne 3       PC             0.001621\n",
              "8            gears of war       PC             0.002337\n",
              "9   unreal tournament iii       PC             0.002359"
            ]
          },
          "metadata": {},
          "output_type": "display_data"
        }
      ],
      "source": [
        "VideoGameRecommender('Call of Duty: World at War', 'PC')"
      ]
    },
    {
      "cell_type": "code",
      "execution_count": 38,
      "metadata": {
        "colab": {
          "base_uri": "https://localhost:8080/",
          "height": 380
        },
        "id": "_KG-ymD9UunG",
        "outputId": "98be2f95-358a-46b4-a06d-5b072eb626cb"
      },
      "outputs": [
        {
          "name": "stdout",
          "output_type": "stream",
          "text": [
            "Top 10 Recommended Video Games for 'call of duty: world at war' [platform: Any]:\n",
            "\n"
          ]
        },
        {
          "data": {
            "text/html": [
              "<div>\n",
              "<style scoped>\n",
              "    .dataframe tbody tr th:only-of-type {\n",
              "        vertical-align: middle;\n",
              "    }\n",
              "\n",
              "    .dataframe tbody tr th {\n",
              "        vertical-align: top;\n",
              "    }\n",
              "\n",
              "    .dataframe thead th {\n",
              "        text-align: right;\n",
              "    }\n",
              "</style>\n",
              "<table border=\"1\" class=\"dataframe\">\n",
              "  <thead>\n",
              "    <tr style=\"text-align: right;\">\n",
              "      <th></th>\n",
              "      <th>Name</th>\n",
              "      <th>Platform</th>\n",
              "      <th>Similarity_Distance</th>\n",
              "    </tr>\n",
              "  </thead>\n",
              "  <tbody>\n",
              "    <tr>\n",
              "      <th>0</th>\n",
              "      <td>bulletstorm</td>\n",
              "      <td>X360</td>\n",
              "      <td>1.110223e-16</td>\n",
              "    </tr>\n",
              "    <tr>\n",
              "      <th>1</th>\n",
              "      <td>halo: combat evolved</td>\n",
              "      <td>PC</td>\n",
              "      <td>9.554833e-05</td>\n",
              "    </tr>\n",
              "    <tr>\n",
              "      <th>2</th>\n",
              "      <td>red faction: guerrilla</td>\n",
              "      <td>PC</td>\n",
              "      <td>9.921157e-05</td>\n",
              "    </tr>\n",
              "    <tr>\n",
              "      <th>3</th>\n",
              "      <td>battlefield 3</td>\n",
              "      <td>PS3</td>\n",
              "      <td>1.020339e-04</td>\n",
              "    </tr>\n",
              "    <tr>\n",
              "      <th>4</th>\n",
              "      <td>tom clancy's rainbow six: vegas</td>\n",
              "      <td>PS3</td>\n",
              "      <td>1.029739e-04</td>\n",
              "    </tr>\n",
              "    <tr>\n",
              "      <th>5</th>\n",
              "      <td>unreal tournament iii</td>\n",
              "      <td>PS3</td>\n",
              "      <td>2.000959e-04</td>\n",
              "    </tr>\n",
              "    <tr>\n",
              "      <th>6</th>\n",
              "      <td>quake 4</td>\n",
              "      <td>PC</td>\n",
              "      <td>4.266633e-04</td>\n",
              "    </tr>\n",
              "    <tr>\n",
              "      <th>7</th>\n",
              "      <td>max payne 3</td>\n",
              "      <td>PS3</td>\n",
              "      <td>4.410591e-04</td>\n",
              "    </tr>\n",
              "    <tr>\n",
              "      <th>8</th>\n",
              "      <td>resistance 3</td>\n",
              "      <td>PS3</td>\n",
              "      <td>4.857106e-04</td>\n",
              "    </tr>\n",
              "    <tr>\n",
              "      <th>9</th>\n",
              "      <td>tom clancy's rainbow six: vegas 2</td>\n",
              "      <td>X360</td>\n",
              "      <td>4.990671e-04</td>\n",
              "    </tr>\n",
              "  </tbody>\n",
              "</table>\n",
              "</div>"
            ],
            "text/plain": [
              "                                Name Platform  Similarity_Distance\n",
              "0                        bulletstorm     X360         1.110223e-16\n",
              "1               halo: combat evolved       PC         9.554833e-05\n",
              "2             red faction: guerrilla       PC         9.921157e-05\n",
              "3                      battlefield 3      PS3         1.020339e-04\n",
              "4    tom clancy's rainbow six: vegas      PS3         1.029739e-04\n",
              "5              unreal tournament iii      PS3         2.000959e-04\n",
              "6                            quake 4       PC         4.266633e-04\n",
              "7                        max payne 3      PS3         4.410591e-04\n",
              "8                       resistance 3      PS3         4.857106e-04\n",
              "9  tom clancy's rainbow six: vegas 2     X360         4.990671e-04"
            ]
          },
          "metadata": {},
          "output_type": "display_data"
        }
      ],
      "source": [
        "VideoGameRecommender('Call of Duty: World at War', 'Any')"
      ]
    },
    {
      "cell_type": "markdown",
      "metadata": {
        "id": "AROVJTTYCt64"
      },
      "source": [
        "**Since the video game is not available on the specified platform, the recommendation is based solely on the game title and ignores the platform.**"
      ]
    },
    {
      "cell_type": "code",
      "execution_count": 39,
      "metadata": {
        "colab": {
          "base_uri": "https://localhost:8080/",
          "height": 380
        },
        "id": "vTN3z2Zw-P5Q",
        "outputId": "853ea6a4-d13f-492a-ade1-573df203209b"
      },
      "outputs": [
        {
          "name": "stdout",
          "output_type": "stream",
          "text": [
            "Top 10 Recommended Video Games for 'red faction: guerrilla' [platform: Any]:\n",
            "\n"
          ]
        },
        {
          "data": {
            "text/html": [
              "<div>\n",
              "<style scoped>\n",
              "    .dataframe tbody tr th:only-of-type {\n",
              "        vertical-align: middle;\n",
              "    }\n",
              "\n",
              "    .dataframe tbody tr th {\n",
              "        vertical-align: top;\n",
              "    }\n",
              "\n",
              "    .dataframe thead th {\n",
              "        text-align: right;\n",
              "    }\n",
              "</style>\n",
              "<table border=\"1\" class=\"dataframe\">\n",
              "  <thead>\n",
              "    <tr style=\"text-align: right;\">\n",
              "      <th></th>\n",
              "      <th>Name</th>\n",
              "      <th>Platform</th>\n",
              "      <th>Similarity_Distance</th>\n",
              "    </tr>\n",
              "  </thead>\n",
              "  <tbody>\n",
              "    <tr>\n",
              "      <th>0</th>\n",
              "      <td>call of duty: world at war</td>\n",
              "      <td>PC</td>\n",
              "      <td>0.000099</td>\n",
              "    </tr>\n",
              "    <tr>\n",
              "      <th>1</th>\n",
              "      <td>resistance: fall of man</td>\n",
              "      <td>PS3</td>\n",
              "      <td>0.000102</td>\n",
              "    </tr>\n",
              "    <tr>\n",
              "      <th>2</th>\n",
              "      <td>vanquish</td>\n",
              "      <td>PS3</td>\n",
              "      <td>0.000103</td>\n",
              "    </tr>\n",
              "    <tr>\n",
              "      <th>3</th>\n",
              "      <td>halo: combat evolved</td>\n",
              "      <td>PC</td>\n",
              "      <td>0.000197</td>\n",
              "    </tr>\n",
              "    <tr>\n",
              "      <th>4</th>\n",
              "      <td>quake 4</td>\n",
              "      <td>PC</td>\n",
              "      <td>0.000198</td>\n",
              "    </tr>\n",
              "    <tr>\n",
              "      <th>5</th>\n",
              "      <td>borderlands</td>\n",
              "      <td>X360</td>\n",
              "      <td>0.000216</td>\n",
              "    </tr>\n",
              "    <tr>\n",
              "      <th>6</th>\n",
              "      <td>bulletstorm</td>\n",
              "      <td>PC</td>\n",
              "      <td>0.000382</td>\n",
              "    </tr>\n",
              "    <tr>\n",
              "      <th>7</th>\n",
              "      <td>killzone 3</td>\n",
              "      <td>PS3</td>\n",
              "      <td>0.000491</td>\n",
              "    </tr>\n",
              "    <tr>\n",
              "      <th>8</th>\n",
              "      <td>crackdown</td>\n",
              "      <td>X360</td>\n",
              "      <td>0.000519</td>\n",
              "    </tr>\n",
              "    <tr>\n",
              "      <th>9</th>\n",
              "      <td>the darkness</td>\n",
              "      <td>X360</td>\n",
              "      <td>0.000793</td>\n",
              "    </tr>\n",
              "  </tbody>\n",
              "</table>\n",
              "</div>"
            ],
            "text/plain": [
              "                         Name Platform  Similarity_Distance\n",
              "0  call of duty: world at war       PC             0.000099\n",
              "1     resistance: fall of man      PS3             0.000102\n",
              "2                    vanquish      PS3             0.000103\n",
              "3        halo: combat evolved       PC             0.000197\n",
              "4                     quake 4       PC             0.000198\n",
              "5                 borderlands     X360             0.000216\n",
              "6                 bulletstorm       PC             0.000382\n",
              "7                  killzone 3      PS3             0.000491\n",
              "8                   crackdown     X360             0.000519\n",
              "9                the darkness     X360             0.000793"
            ]
          },
          "metadata": {},
          "output_type": "display_data"
        }
      ],
      "source": [
        "VideoGameRecommender('Red Faction: Guerrilla', 'Any')"
      ]
    },
    {
      "cell_type": "markdown",
      "metadata": {
        "id": "OL1mEyy8C4G-"
      },
      "source": [
        "**The platform helps to limit the results and display only recommended games based on the specified game and platform.**"
      ]
    },
    {
      "cell_type": "code",
      "execution_count": 40,
      "metadata": {
        "colab": {
          "base_uri": "https://localhost:8080/",
          "height": 380
        },
        "id": "vieI8x_x_LBW",
        "outputId": "2bc56a74-41c7-4f4c-c837-58e959374f97"
      },
      "outputs": [
        {
          "name": "stdout",
          "output_type": "stream",
          "text": [
            "Top 10 Recommended Video Games for 'red faction: guerrilla' [platform: X360]:\n",
            "\n"
          ]
        },
        {
          "data": {
            "text/html": [
              "<div>\n",
              "<style scoped>\n",
              "    .dataframe tbody tr th:only-of-type {\n",
              "        vertical-align: middle;\n",
              "    }\n",
              "\n",
              "    .dataframe tbody tr th {\n",
              "        vertical-align: top;\n",
              "    }\n",
              "\n",
              "    .dataframe thead th {\n",
              "        text-align: right;\n",
              "    }\n",
              "</style>\n",
              "<table border=\"1\" class=\"dataframe\">\n",
              "  <thead>\n",
              "    <tr style=\"text-align: right;\">\n",
              "      <th></th>\n",
              "      <th>Name</th>\n",
              "      <th>Platform</th>\n",
              "      <th>Similarity_Distance</th>\n",
              "    </tr>\n",
              "  </thead>\n",
              "  <tbody>\n",
              "    <tr>\n",
              "      <th>0</th>\n",
              "      <td>borderlands</td>\n",
              "      <td>X360</td>\n",
              "      <td>0.000216</td>\n",
              "    </tr>\n",
              "    <tr>\n",
              "      <th>1</th>\n",
              "      <td>crackdown</td>\n",
              "      <td>X360</td>\n",
              "      <td>0.000519</td>\n",
              "    </tr>\n",
              "    <tr>\n",
              "      <th>2</th>\n",
              "      <td>the darkness</td>\n",
              "      <td>X360</td>\n",
              "      <td>0.000971</td>\n",
              "    </tr>\n",
              "    <tr>\n",
              "      <th>3</th>\n",
              "      <td>halo: combat evolved anniversary</td>\n",
              "      <td>X360</td>\n",
              "      <td>0.000971</td>\n",
              "    </tr>\n",
              "    <tr>\n",
              "      <th>4</th>\n",
              "      <td>bioshock 2</td>\n",
              "      <td>X360</td>\n",
              "      <td>0.001003</td>\n",
              "    </tr>\n",
              "    <tr>\n",
              "      <th>5</th>\n",
              "      <td>vanquish</td>\n",
              "      <td>X360</td>\n",
              "      <td>0.001042</td>\n",
              "    </tr>\n",
              "    <tr>\n",
              "      <th>6</th>\n",
              "      <td>max payne 3</td>\n",
              "      <td>X360</td>\n",
              "      <td>0.001053</td>\n",
              "    </tr>\n",
              "    <tr>\n",
              "      <th>7</th>\n",
              "      <td>the chronicles of riddick: assault on dark athena</td>\n",
              "      <td>X360</td>\n",
              "      <td>0.001094</td>\n",
              "    </tr>\n",
              "    <tr>\n",
              "      <th>8</th>\n",
              "      <td>tom clancy's rainbow six: vegas</td>\n",
              "      <td>X360</td>\n",
              "      <td>0.001274</td>\n",
              "    </tr>\n",
              "    <tr>\n",
              "      <th>9</th>\n",
              "      <td>borderlands 2</td>\n",
              "      <td>X360</td>\n",
              "      <td>0.001702</td>\n",
              "    </tr>\n",
              "  </tbody>\n",
              "</table>\n",
              "</div>"
            ],
            "text/plain": [
              "                                                Name Platform  \\\n",
              "0                                        borderlands     X360   \n",
              "1                                          crackdown     X360   \n",
              "2                                       the darkness     X360   \n",
              "3                   halo: combat evolved anniversary     X360   \n",
              "4                                         bioshock 2     X360   \n",
              "5                                           vanquish     X360   \n",
              "6                                        max payne 3     X360   \n",
              "7  the chronicles of riddick: assault on dark athena     X360   \n",
              "8                    tom clancy's rainbow six: vegas     X360   \n",
              "9                                      borderlands 2     X360   \n",
              "\n",
              "   Similarity_Distance  \n",
              "0             0.000216  \n",
              "1             0.000519  \n",
              "2             0.000971  \n",
              "3             0.000971  \n",
              "4             0.001003  \n",
              "5             0.001042  \n",
              "6             0.001053  \n",
              "7             0.001094  \n",
              "8             0.001274  \n",
              "9             0.001702  "
            ]
          },
          "metadata": {},
          "output_type": "display_data"
        }
      ],
      "source": [
        "VideoGameRecommender('Red Faction: Guerrilla', 'X360')"
      ]
    },
    {
      "cell_type": "code",
      "execution_count": 41,
      "metadata": {},
      "outputs": [
        {
          "data": {
            "text/plain": [
              "array(['Wii Sports', 'Mario Kart Wii', 'Wii Sports Resort', ...,\n",
              "       'Mega Brain Boost', 'STORM: Frontline Nation', 'Plushees'],\n",
              "      dtype=object)"
            ]
          },
          "execution_count": 41,
          "metadata": {},
          "output_type": "execute_result"
        }
      ],
      "source": [
        "video_games_filtered_df['Name'].unique()"
      ]
    },
    {
      "cell_type": "code",
      "execution_count": 42,
      "metadata": {},
      "outputs": [
        {
          "data": {
            "text/plain": [
              "array(['Wii', 'DS', 'X360', 'PS3', 'PS2', '3DS', 'PS4', 'PS', 'XB', 'PC',\n",
              "       'PSP', 'WiiU', 'GC', 'GBA', 'XOne', 'PSV', 'DC'], dtype=object)"
            ]
          },
          "execution_count": 42,
          "metadata": {},
          "output_type": "execute_result"
        }
      ],
      "source": [
        "video_games_filtered_df['Platform'].unique()"
      ]
    },
    {
      "cell_type": "code",
      "execution_count": null,
      "metadata": {},
      "outputs": [],
      "source": []
    }
  ],
  "metadata": {
    "colab": {
      "provenance": []
    },
    "kernelspec": {
      "display_name": "Python 3",
      "name": "python3"
    },
    "language_info": {
      "codemirror_mode": {
        "name": "ipython",
        "version": 3
      },
      "file_extension": ".py",
      "mimetype": "text/x-python",
      "name": "python",
      "nbconvert_exporter": "python",
      "pygments_lexer": "ipython3",
      "version": "3.12.2"
    }
  },
  "nbformat": 4,
  "nbformat_minor": 0
}
